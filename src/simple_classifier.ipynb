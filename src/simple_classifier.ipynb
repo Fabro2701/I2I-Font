{
 "cells": [
  {
   "cell_type": "code",
   "execution_count": 1,
   "id": "initial_id",
   "metadata": {
    "collapsed": true,
    "ExecuteTime": {
     "end_time": "2023-12-29T17:23:45.873837900Z",
     "start_time": "2023-12-29T17:23:40.632717400Z"
    }
   },
   "outputs": [],
   "source": [
    "import cv2\n",
    "import numpy as np\n",
    "from matplotlib import pyplot as plt \n",
    "\n",
    "from PIL import Image, ImageDraw, ImageFont\n",
    "import tensorflow as tf\n",
    "from os import listdir\n",
    "import pandas as pd\n",
    "from sklearn.model_selection import train_test_split\n",
    "from sklearn.preprocessing import OneHotEncoder"
   ]
  },
  {
   "cell_type": "code",
   "execution_count": 2,
   "outputs": [
    {
     "name": "stdout",
     "output_type": "stream",
     "text": [
      "[PhysicalDevice(name='/physical_device:GPU:0', device_type='GPU')]\n"
     ]
    }
   ],
   "source": [
    "print(tf.config.list_physical_devices('GPU'))"
   ],
   "metadata": {
    "collapsed": false,
    "ExecuteTime": {
     "end_time": "2023-12-29T17:23:46.003962100Z",
     "start_time": "2023-12-29T17:23:45.875282800Z"
    }
   },
   "id": "c9c98e2375598240"
  },
  {
   "cell_type": "code",
   "execution_count": 78,
   "outputs": [],
   "source": [
    "def read_file(dir:str):\n",
    "    list = []\n",
    "    for f in listdir(dir):\n",
    "        list.append(cv2.imread(dir+f))\n",
    "    return [image.max(axis=-1, keepdims=True) for image in list]\n",
    "    #return np.array([(image.sum(axis=-1, keepdims=True)).reshape(-1) for image in list],dtype=np.uint8)"
   ],
   "metadata": {
    "collapsed": false,
    "ExecuteTime": {
     "end_time": "2023-12-29T18:22:55.803842900Z",
     "start_time": "2023-12-29T18:22:55.788419500Z"
    }
   },
   "id": "70bfc855df6918a3"
  },
  {
   "cell_type": "code",
   "execution_count": 74,
   "outputs": [],
   "source": [
    "fonts = [\"Carattere-Regular\",\"Sacramento-Regular\",\"Sevillana-Regular\",\"SingleDay-Regular\"]"
   ],
   "metadata": {
    "collapsed": false,
    "ExecuteTime": {
     "end_time": "2023-12-29T18:22:23.371993700Z",
     "start_time": "2023-12-29T18:22:23.360352300Z"
    }
   },
   "id": "246deee499e3b899"
  },
  {
   "cell_type": "code",
   "execution_count": 79,
   "outputs": [
    {
     "data": {
      "text/plain": "(8004, 50, 200, 1)"
     },
     "execution_count": 79,
     "metadata": {},
     "output_type": "execute_result"
    }
   ],
   "source": [
    "x_train = np.concatenate([read_file(f\"../resources/data/class_test/{font}/\")for font in fonts])\n",
    "x_train.shape"
   ],
   "metadata": {
    "collapsed": false,
    "ExecuteTime": {
     "end_time": "2023-12-29T18:23:04.114324800Z",
     "start_time": "2023-12-29T18:23:01.698218700Z"
    }
   },
   "id": "72b07316ae795ed5"
  },
  {
   "cell_type": "code",
   "execution_count": 80,
   "outputs": [
    {
     "data": {
      "text/plain": "(8004, 4)"
     },
     "execution_count": 80,
     "metadata": {},
     "output_type": "execute_result"
    }
   ],
   "source": [
    "y_train = np.concatenate([([i]*int(len(x_train)/len(fonts))) for i in range(len(fonts))])\n",
    "enc = OneHotEncoder(sparse_output=False)\n",
    "y_train = enc.fit_transform(y_train.reshape(-1,1))\n",
    "y_train.shape"
   ],
   "metadata": {
    "collapsed": false,
    "ExecuteTime": {
     "end_time": "2023-12-29T18:23:04.605789900Z",
     "start_time": "2023-12-29T18:23:04.578941800Z"
    }
   },
   "id": "34a19818450cc299"
  },
  {
   "cell_type": "code",
   "execution_count": 81,
   "outputs": [],
   "source": [
    "x_train, x_test, y_train, y_test = train_test_split(x_train,y_train, test_size=0.10, random_state=99)"
   ],
   "metadata": {
    "collapsed": false,
    "ExecuteTime": {
     "end_time": "2023-12-29T18:23:04.950560900Z",
     "start_time": "2023-12-29T18:23:04.920783500Z"
    }
   },
   "id": "c202d4e2d0c98ef7"
  },
  {
   "cell_type": "code",
   "execution_count": 85,
   "outputs": [],
   "source": [
    "\n",
    "tf.keras.backend.clear_session()\n",
    "model = tf.keras.Sequential(\n",
    "    [\n",
    "        tf.keras.layers.GaussianNoise(0.15, input_shape=(50, 200, 1)),\n",
    "        tf.keras.layers.Conv2D(32, (3,3), activation='relu'),\n",
    "        tf.keras.layers.MaxPooling2D((3, 3), strides=4),\n",
    "        tf.keras.layers.SpatialDropout2D(0.2),\n",
    "        tf.keras.layers.Conv2D(48, (3,3), activation='relu'),\n",
    "        tf.keras.layers.MaxPooling2D((3, 3), strides=4),\n",
    "        tf.keras.layers.SpatialDropout2D(0.2),\n",
    "        tf.keras.layers.Flatten(),\n",
    "        tf.keras.layers.Dense(32, activation=\"relu\"),\n",
    "        tf.keras.layers.Dense(4, activation=\"softmax\")\n",
    "    ]\n",
    ")\n",
    "\n",
    "model.compile(loss='categorical_crossentropy', optimizer='adam', metrics=['accuracy',tf.keras.metrics.Recall()])"
   ],
   "metadata": {
    "collapsed": false,
    "ExecuteTime": {
     "end_time": "2023-12-29T18:23:37.618185400Z",
     "start_time": "2023-12-29T18:23:37.554734Z"
    }
   },
   "id": "49022a7184611716"
  },
  {
   "cell_type": "code",
   "execution_count": 86,
   "outputs": [
    {
     "data": {
      "text/plain": "'2.10.1'"
     },
     "execution_count": 86,
     "metadata": {},
     "output_type": "execute_result"
    }
   ],
   "source": [
    "tf.__version__"
   ],
   "metadata": {
    "collapsed": false,
    "ExecuteTime": {
     "end_time": "2023-12-29T18:23:37.854005Z",
     "start_time": "2023-12-29T18:23:37.850497500Z"
    }
   },
   "id": "278c7fd821c85b81"
  },
  {
   "cell_type": "code",
   "execution_count": 87,
   "outputs": [
    {
     "name": "stdout",
     "output_type": "stream",
     "text": [
      "Model: \"sequential\"\n",
      "_________________________________________________________________\n",
      " Layer (type)                Output Shape              Param #   \n",
      "=================================================================\n",
      " gaussian_noise (GaussianNoi  (None, 50, 200, 1)       0         \n",
      " se)                                                             \n",
      "                                                                 \n",
      " conv2d (Conv2D)             (None, 48, 198, 32)       320       \n",
      "                                                                 \n",
      " max_pooling2d (MaxPooling2D  (None, 12, 49, 32)       0         \n",
      " )                                                               \n",
      "                                                                 \n",
      " spatial_dropout2d (SpatialD  (None, 12, 49, 32)       0         \n",
      " ropout2D)                                                       \n",
      "                                                                 \n",
      " conv2d_1 (Conv2D)           (None, 10, 47, 48)        13872     \n",
      "                                                                 \n",
      " max_pooling2d_1 (MaxPooling  (None, 2, 12, 48)        0         \n",
      " 2D)                                                             \n",
      "                                                                 \n",
      " spatial_dropout2d_1 (Spatia  (None, 2, 12, 48)        0         \n",
      " lDropout2D)                                                     \n",
      "                                                                 \n",
      " flatten (Flatten)           (None, 1152)              0         \n",
      "                                                                 \n",
      " dense (Dense)               (None, 32)                36896     \n",
      "                                                                 \n",
      " dense_1 (Dense)             (None, 4)                 132       \n",
      "                                                                 \n",
      "=================================================================\n",
      "Total params: 51,220\n",
      "Trainable params: 51,220\n",
      "Non-trainable params: 0\n",
      "_________________________________________________________________\n"
     ]
    }
   ],
   "source": [
    "model.summary()"
   ],
   "metadata": {
    "collapsed": false,
    "ExecuteTime": {
     "end_time": "2023-12-29T18:23:38.234640900Z",
     "start_time": "2023-12-29T18:23:38.186876Z"
    }
   },
   "id": "c60a647ef4cfd6f4"
  },
  {
   "cell_type": "code",
   "execution_count": 88,
   "outputs": [
    {
     "name": "stdout",
     "output_type": "stream",
     "text": [
      "Epoch 1/20\n",
      "181/181 [==============================] - 2s 8ms/step - loss: 2.0412 - accuracy: 0.3566 - recall: 0.1437 - val_loss: 1.0940 - val_accuracy: 0.4913 - val_recall: 0.2505\n",
      "Epoch 2/20\n",
      "181/181 [==============================] - 1s 6ms/step - loss: 0.8827 - accuracy: 0.6274 - recall: 0.4669 - val_loss: 0.2168 - val_accuracy: 0.9257 - val_recall: 0.9105\n",
      "Epoch 3/20\n",
      "181/181 [==============================] - 1s 7ms/step - loss: 0.2357 - accuracy: 0.9110 - recall: 0.9049 - val_loss: 0.0251 - val_accuracy: 1.0000 - val_recall: 1.0000\n",
      "Epoch 4/20\n",
      "181/181 [==============================] - 1s 6ms/step - loss: 0.0951 - accuracy: 0.9675 - recall: 0.9656 - val_loss: 0.0101 - val_accuracy: 0.9993 - val_recall: 0.9993\n",
      "Epoch 5/20\n",
      "181/181 [==============================] - 1s 6ms/step - loss: 0.0523 - accuracy: 0.9833 - recall: 0.9823 - val_loss: 0.0036 - val_accuracy: 1.0000 - val_recall: 1.0000\n",
      "Epoch 6/20\n",
      "181/181 [==============================] - 1s 7ms/step - loss: 0.0285 - accuracy: 0.9913 - recall: 0.9910 - val_loss: 0.0013 - val_accuracy: 1.0000 - val_recall: 1.0000\n",
      "Epoch 7/20\n",
      "181/181 [==============================] - 1s 7ms/step - loss: 0.0271 - accuracy: 0.9908 - recall: 0.9903 - val_loss: 0.0012 - val_accuracy: 1.0000 - val_recall: 1.0000\n",
      "Epoch 8/20\n",
      "181/181 [==============================] - 1s 7ms/step - loss: 0.0165 - accuracy: 0.9951 - recall: 0.9951 - val_loss: 4.7035e-04 - val_accuracy: 1.0000 - val_recall: 1.0000\n",
      "Epoch 9/20\n",
      "181/181 [==============================] - 1s 7ms/step - loss: 0.0108 - accuracy: 0.9965 - recall: 0.9964 - val_loss: 2.6750e-04 - val_accuracy: 1.0000 - val_recall: 1.0000\n",
      "Epoch 10/20\n",
      "181/181 [==============================] - 1s 7ms/step - loss: 0.0057 - accuracy: 0.9983 - recall: 0.9983 - val_loss: 1.7655e-04 - val_accuracy: 1.0000 - val_recall: 1.0000\n",
      "Epoch 11/20\n",
      "181/181 [==============================] - 1s 6ms/step - loss: 0.0084 - accuracy: 0.9967 - recall: 0.9965 - val_loss: 6.8699e-04 - val_accuracy: 1.0000 - val_recall: 1.0000\n",
      "Epoch 12/20\n",
      "181/181 [==============================] - 1s 7ms/step - loss: 0.0066 - accuracy: 0.9977 - recall: 0.9977 - val_loss: 1.5107e-04 - val_accuracy: 1.0000 - val_recall: 1.0000\n",
      "Epoch 13/20\n",
      "181/181 [==============================] - 1s 7ms/step - loss: 0.0051 - accuracy: 0.9983 - recall: 0.9983 - val_loss: 1.2352e-04 - val_accuracy: 1.0000 - val_recall: 1.0000\n",
      "Epoch 14/20\n",
      "181/181 [==============================] - 1s 7ms/step - loss: 0.0068 - accuracy: 0.9977 - recall: 0.9977 - val_loss: 6.5689e-05 - val_accuracy: 1.0000 - val_recall: 1.0000\n",
      "Epoch 15/20\n",
      "181/181 [==============================] - 1s 7ms/step - loss: 0.0059 - accuracy: 0.9983 - recall: 0.9983 - val_loss: 7.2356e-04 - val_accuracy: 1.0000 - val_recall: 1.0000\n",
      "Epoch 16/20\n",
      "181/181 [==============================] - 1s 7ms/step - loss: 0.0084 - accuracy: 0.9969 - recall: 0.9969 - val_loss: 5.5948e-05 - val_accuracy: 1.0000 - val_recall: 1.0000\n",
      "Epoch 17/20\n",
      "181/181 [==============================] - 1s 7ms/step - loss: 0.0088 - accuracy: 0.9979 - recall: 0.9979 - val_loss: 2.2593e-05 - val_accuracy: 1.0000 - val_recall: 1.0000\n",
      "Epoch 18/20\n",
      "181/181 [==============================] - 1s 7ms/step - loss: 0.0103 - accuracy: 0.9974 - recall: 0.9974 - val_loss: 1.8781e-04 - val_accuracy: 1.0000 - val_recall: 1.0000\n",
      "Epoch 19/20\n",
      "181/181 [==============================] - 1s 7ms/step - loss: 0.0056 - accuracy: 0.9984 - recall: 0.9984 - val_loss: 6.6042e-05 - val_accuracy: 1.0000 - val_recall: 1.0000\n",
      "Epoch 20/20\n",
      "181/181 [==============================] - 1s 7ms/step - loss: 0.0085 - accuracy: 0.9972 - recall: 0.9972 - val_loss: 2.5935e-04 - val_accuracy: 1.0000 - val_recall: 1.0000\n"
     ]
    }
   ],
   "source": [
    "history = model.fit(x_train,y_train,epochs=20,validation_split=0.2)"
   ],
   "metadata": {
    "collapsed": false,
    "ExecuteTime": {
     "end_time": "2023-12-29T18:24:03.579837200Z",
     "start_time": "2023-12-29T18:23:38.627670500Z"
    }
   },
   "id": "7d0e3fc31d542083"
  },
  {
   "cell_type": "code",
   "execution_count": 89,
   "outputs": [
    {
     "data": {
      "text/plain": "<matplotlib.legend.Legend at 0x248c58d1ba0>"
     },
     "execution_count": 89,
     "metadata": {},
     "output_type": "execute_result"
    },
    {
     "data": {
      "text/plain": "<Figure size 1200x400 with 1 Axes>",
      "image/png": "[encoded data removed]"
     },
     "metadata": {},
     "output_type": "display_data"
    }
   ],
   "source": [
    "plt.figure(figsize=(12, 4))\n",
    "plt.subplot(1, 2, 1)\n",
    "plt.plot(history.history['accuracy'], label='Training Accuracy')\n",
    "plt.plot(history.history['val_accuracy'], label='Validation Accuracy')\n",
    "plt.xlabel('Epoch')\n",
    "plt.ylabel('Accuracy')\n",
    "plt.legend()"
   ],
   "metadata": {
    "collapsed": false,
    "ExecuteTime": {
     "end_time": "2023-12-29T18:24:03.718850500Z",
     "start_time": "2023-12-29T18:24:03.582837200Z"
    }
   },
   "id": "6323259cc93301a3"
  },
  {
   "cell_type": "code",
   "execution_count": 12,
   "outputs": [
    {
     "name": "stdout",
     "output_type": "stream",
     "text": [
      "26/26 [==============================] - 0s 11ms/step - loss: 7.3671e-05 - accuracy: 1.0000\n"
     ]
    },
    {
     "data": {
      "text/plain": "[7.367136277025566e-05, 1.0]"
     },
     "execution_count": 12,
     "metadata": {},
     "output_type": "execute_result"
    }
   ],
   "source": [
    "model.evaluate(x_test,y_test)"
   ],
   "metadata": {
    "collapsed": false,
    "ExecuteTime": {
     "end_time": "2023-12-29T17:26:05.965732100Z",
     "start_time": "2023-12-29T17:26:05.581772100Z"
    }
   },
   "id": "ecdd6b6dc3715e30"
  },
  {
   "cell_type": "code",
   "execution_count": 30,
   "outputs": [
    {
     "name": "stdout",
     "output_type": "stream",
     "text": [
      "1/1 [==============================] - 0s 53ms/step\n"
     ]
    },
    {
     "data": {
      "text/plain": "array([[1.1928455e-12, 3.9021703e-10, 1.0000000e+00, 7.1138051e-09]],\n      dtype=float32)"
     },
     "execution_count": 30,
     "metadata": {},
     "output_type": "execute_result"
    }
   ],
   "source": [
    "model.predict(np.array(x_test[7]).reshape(1,50,200,1))"
   ],
   "metadata": {
    "collapsed": false,
    "ExecuteTime": {
     "end_time": "2023-12-29T17:36:46.017674300Z",
     "start_time": "2023-12-29T17:36:45.923298400Z"
    }
   },
   "id": "347a855c9bc1d10c"
  },
  {
   "cell_type": "code",
   "execution_count": 31,
   "outputs": [
    {
     "name": "stdout",
     "output_type": "stream",
     "text": [
      "1/1 [==============================] - 0s 18ms/step\n"
     ]
    },
    {
     "data": {
      "text/plain": "array([[5.6923454e-07, 1.5888760e-07, 5.8903606e-07, 9.9999869e-01]],\n      dtype=float32)"
     },
     "execution_count": 31,
     "metadata": {},
     "output_type": "execute_result"
    }
   ],
   "source": [
    "model.predict(np.array(x_test[6]).reshape(1,50,200,1))"
   ],
   "metadata": {
    "collapsed": false,
    "ExecuteTime": {
     "end_time": "2023-12-29T17:36:52.025946800Z",
     "start_time": "2023-12-29T17:36:51.958876Z"
    }
   },
   "id": "552b0cdb574c77ad"
  },
  {
   "cell_type": "code",
   "execution_count": 83,
   "outputs": [
    {
     "data": {
      "text/plain": "<Figure size 640x480 with 1 Axes>",
      "image/png": "[encoded data removed]"
     },
     "metadata": {},
     "output_type": "display_data"
    }
   ],
   "source": [
    "plt.imshow(x_test[0], cmap='gray')\n",
    "plt.show()"
   ],
   "metadata": {
    "collapsed": false,
    "ExecuteTime": {
     "end_time": "2023-12-29T18:23:23.165392200Z",
     "start_time": "2023-12-29T18:23:23.085579600Z"
    }
   },
   "id": "3fe2402aba56ba66"
  },
  {
   "cell_type": "code",
   "execution_count": 90,
   "outputs": [
    {
     "data": {
      "text/plain": "<Figure size 640x480 with 1 Axes>",
      "image/png": "[encoded data removed]"
     },
     "metadata": {},
     "output_type": "display_data"
    }
   ],
   "source": [
    "plt.imshow(x_test[6], cmap='gray')\n",
    "plt.show()"
   ],
   "metadata": {
    "collapsed": false,
    "ExecuteTime": {
     "end_time": "2023-12-29T18:24:19.057597300Z",
     "start_time": "2023-12-29T18:24:18.978074500Z"
    }
   },
   "id": "e7f82cabe5b39cd2"
  },
  {
   "cell_type": "code",
   "execution_count": 135,
   "outputs": [],
   "source": [],
   "metadata": {
    "collapsed": false,
    "ExecuteTime": {
     "end_time": "2023-12-29T00:17:43.616143400Z",
     "start_time": "2023-12-29T00:17:40.243666700Z"
    }
   },
   "id": "5b239ea182af6a1b"
  }
 ],
 "metadata": {
  "kernelspec": {
   "display_name": "Python 3",
   "language": "python",
   "name": "python3"
  },
  "language_info": {
   "codemirror_mode": {
    "name": "ipython",
    "version": 2
   },
   "file_extension": ".py",
   "mimetype": "text/x-python",
   "name": "python",
   "nbconvert_exporter": "python",
   "pygments_lexer": "ipython2",
   "version": "2.7.6"
  }
 },
 "nbformat": 4,
 "nbformat_minor": 5
}
