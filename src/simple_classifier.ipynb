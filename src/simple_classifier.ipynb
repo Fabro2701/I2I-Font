{
 "cells": [
  {
   "cell_type": "code",
   "execution_count": 130,
   "id": "initial_id",
   "metadata": {
    "collapsed": true,
    "ExecuteTime": {
     "end_time": "2023-12-29T00:07:36.009235100Z",
     "start_time": "2023-12-29T00:07:35.987998Z"
    }
   },
   "outputs": [],
   "source": [
    "import cv2\n",
    "import numpy as np\n",
    "from matplotlib import pyplot as plt \n",
    "\n",
    "from PIL import Image, ImageDraw, ImageFont\n",
    "import tensorflow as tf\n",
    "from os import listdir\n",
    "import pandas as pd\n",
    "from sklearn.model_selection import train_test_split"
   ]
  },
  {
   "cell_type": "code",
   "execution_count": 3,
   "outputs": [
    {
     "name": "stdout",
     "output_type": "stream",
     "text": [
      "[PhysicalDevice(name='/physical_device:GPU:0', device_type='GPU')]\n"
     ]
    }
   ],
   "source": [
    "print(tf.config.list_physical_devices('GPU'))"
   ],
   "metadata": {
    "collapsed": false,
    "ExecuteTime": {
     "end_time": "2023-12-28T22:39:22.820773600Z",
     "start_time": "2023-12-28T22:39:22.763950400Z"
    }
   },
   "id": "c9c98e2375598240"
  },
  {
   "cell_type": "code",
   "execution_count": null,
   "outputs": [],
   "source": [],
   "metadata": {
    "collapsed": false
   },
   "id": "246deee499e3b899"
  },
  {
   "cell_type": "code",
   "execution_count": 92,
   "outputs": [],
   "source": [
    "def read_file(dir:str):\n",
    "    list = []\n",
    "    for f in listdir(dir):\n",
    "        list.append(cv2.imread(dir+f))\n",
    "    return np.array([image.sum(axis=-1, keepdims=True) for image in list], dtype=np.uint8)\n",
    "    #return np.array([(image.sum(axis=-1, keepdims=True)).reshape(-1) for image in list],dtype=np.uint8)"
   ],
   "metadata": {
    "collapsed": false,
    "ExecuteTime": {
     "end_time": "2023-12-28T23:34:35.784347200Z",
     "start_time": "2023-12-28T23:34:35.772928700Z"
    }
   },
   "id": "70bfc855df6918a3"
  },
  {
   "cell_type": "code",
   "execution_count": 93,
   "outputs": [],
   "source": [
    "list1 = read_file(\"../resources/data/class_test/HERSHEY/\")\n",
    "list2 = read_file(\"../resources/data/class_test/SCRIPT/\")"
   ],
   "metadata": {
    "collapsed": false,
    "ExecuteTime": {
     "end_time": "2023-12-28T23:34:36.106711400Z",
     "start_time": "2023-12-28T23:34:36.067539400Z"
    }
   },
   "id": "14681e48d701f549"
  },
  {
   "cell_type": "code",
   "execution_count": 94,
   "outputs": [
    {
     "data": {
      "text/plain": "(69, 50, 200, 1)"
     },
     "execution_count": 94,
     "metadata": {},
     "output_type": "execute_result"
    }
   ],
   "source": [
    "list2.shape"
   ],
   "metadata": {
    "collapsed": false,
    "ExecuteTime": {
     "end_time": "2023-12-28T23:34:36.329809100Z",
     "start_time": "2023-12-28T23:34:36.315982700Z"
    }
   },
   "id": "143925859fe1b7aa"
  },
  {
   "cell_type": "code",
   "execution_count": 95,
   "outputs": [
    {
     "data": {
      "text/plain": "(138, 50, 200, 1)"
     },
     "execution_count": 95,
     "metadata": {},
     "output_type": "execute_result"
    }
   ],
   "source": [
    "x_train = np.concatenate([list1, list2])\n",
    "x_train.shape"
   ],
   "metadata": {
    "collapsed": false,
    "ExecuteTime": {
     "end_time": "2023-12-28T23:34:40.081648100Z",
     "start_time": "2023-12-28T23:34:40.067879800Z"
    }
   },
   "id": "72b07316ae795ed5"
  },
  {
   "cell_type": "code",
   "execution_count": 100,
   "outputs": [
    {
     "data": {
      "text/plain": "(138,)"
     },
     "execution_count": 100,
     "metadata": {},
     "output_type": "execute_result"
    }
   ],
   "source": [
    "y_train = np.concatenate([[0]*len(list1), [1]*len(list2)])\n",
    "y_train.shape"
   ],
   "metadata": {
    "collapsed": false,
    "ExecuteTime": {
     "end_time": "2023-12-28T23:35:05.748331100Z",
     "start_time": "2023-12-28T23:35:05.732332200Z"
    }
   },
   "id": "34a19818450cc299"
  },
  {
   "cell_type": "code",
   "execution_count": 105,
   "outputs": [],
   "source": [
    "x_train, x_test, y_train, y_test = train_test_split(x_train,y_train, test_size=0.10, random_state=99)"
   ],
   "metadata": {
    "collapsed": false,
    "ExecuteTime": {
     "end_time": "2023-12-28T23:39:44.312784900Z",
     "start_time": "2023-12-28T23:39:44.283827700Z"
    }
   },
   "id": "c202d4e2d0c98ef7"
  },
  {
   "cell_type": "code",
   "execution_count": 106,
   "outputs": [],
   "source": [
    "\n",
    "tf.keras.backend.clear_session()\n",
    "model = tf.keras.Sequential(\n",
    "    [\n",
    "        #tf.keras.layers.GaussianNoise(0.1, input_shape=(28, 28, 1)),\n",
    "        tf.keras.layers.Conv2D(32, (3,3), input_shape=(50, 200, 1), activation='relu'),\n",
    "        tf.keras.layers.MaxPooling2D((3, 3), strides=4),\n",
    "        #tf.keras.layers.SpatialDropout2D(0.4),\n",
    "        tf.keras.layers.Conv2D(48, (3,3), activation='relu'),\n",
    "        tf.keras.layers.MaxPooling2D((3, 3), strides=4),\n",
    "        #tf.keras.layers.SpatialDropout2D(0.4),\n",
    "        tf.keras.layers.Flatten(),\n",
    "        tf.keras.layers.Dense(32, activation=\"relu\"),\n",
    "        tf.keras.layers.Dense(1, activation=\"sigmoid\")\n",
    "    ]\n",
    ")\n",
    "\n",
    "model.compile(loss='binary_crossentropy', optimizer='adam', metrics=['accuracy'])"
   ],
   "metadata": {
    "collapsed": false,
    "ExecuteTime": {
     "end_time": "2023-12-28T23:39:50.287045100Z",
     "start_time": "2023-12-28T23:39:50.194459400Z"
    }
   },
   "id": "49022a7184611716"
  },
  {
   "cell_type": "code",
   "execution_count": 102,
   "outputs": [
    {
     "name": "stdout",
     "output_type": "stream",
     "text": [
      "Model: \"sequential\"\n",
      "_________________________________________________________________\n",
      " Layer (type)                Output Shape              Param #   \n",
      "=================================================================\n",
      " conv2d (Conv2D)             (None, 48, 198, 32)       320       \n",
      "                                                                 \n",
      " max_pooling2d (MaxPooling2D  (None, 12, 49, 32)       0         \n",
      " )                                                               \n",
      "                                                                 \n",
      " conv2d_1 (Conv2D)           (None, 10, 47, 48)        13872     \n",
      "                                                                 \n",
      " max_pooling2d_1 (MaxPooling  (None, 2, 12, 48)        0         \n",
      " 2D)                                                             \n",
      "                                                                 \n",
      " flatten (Flatten)           (None, 1152)              0         \n",
      "                                                                 \n",
      " dense (Dense)               (None, 32)                36896     \n",
      "                                                                 \n",
      " dense_1 (Dense)             (None, 1)                 33        \n",
      "                                                                 \n",
      "=================================================================\n",
      "Total params: 51,121\n",
      "Trainable params: 51,121\n",
      "Non-trainable params: 0\n",
      "_________________________________________________________________\n"
     ]
    }
   ],
   "source": [
    "model.summary()"
   ],
   "metadata": {
    "collapsed": false,
    "ExecuteTime": {
     "end_time": "2023-12-28T23:35:06.911955300Z",
     "start_time": "2023-12-28T23:35:06.875812600Z"
    }
   },
   "id": "c60a647ef4cfd6f4"
  },
  {
   "cell_type": "code",
   "execution_count": 107,
   "outputs": [
    {
     "name": "stdout",
     "output_type": "stream",
     "text": [
      "Epoch 1/10\n",
      "4/4 [==============================] - 1s 85ms/step - loss: 6.4985 - accuracy: 0.6263 - val_loss: 5.4811 - val_accuracy: 0.7200\n",
      "Epoch 2/10\n",
      "4/4 [==============================] - 0s 14ms/step - loss: 1.0871 - accuracy: 0.8283 - val_loss: 1.6499 - val_accuracy: 0.8000\n",
      "Epoch 3/10\n",
      "4/4 [==============================] - 0s 14ms/step - loss: 0.3107 - accuracy: 0.9192 - val_loss: 0.1065 - val_accuracy: 0.9200\n",
      "Epoch 4/10\n",
      "4/4 [==============================] - 0s 13ms/step - loss: 0.0214 - accuracy: 0.9899 - val_loss: 0.3062 - val_accuracy: 0.8800\n",
      "Epoch 5/10\n",
      "4/4 [==============================] - 0s 14ms/step - loss: 0.0630 - accuracy: 0.9798 - val_loss: 0.1070 - val_accuracy: 0.9600\n",
      "Epoch 6/10\n",
      "4/4 [==============================] - 0s 13ms/step - loss: 0.0131 - accuracy: 0.9899 - val_loss: 0.0207 - val_accuracy: 1.0000\n",
      "Epoch 7/10\n",
      "4/4 [==============================] - 0s 14ms/step - loss: 0.0044 - accuracy: 1.0000 - val_loss: 0.0016 - val_accuracy: 1.0000\n",
      "Epoch 8/10\n",
      "4/4 [==============================] - 0s 14ms/step - loss: 4.7524e-04 - accuracy: 1.0000 - val_loss: 4.5225e-04 - val_accuracy: 1.0000\n",
      "Epoch 9/10\n",
      "4/4 [==============================] - 0s 14ms/step - loss: 6.3944e-04 - accuracy: 1.0000 - val_loss: 8.3974e-04 - val_accuracy: 1.0000\n",
      "Epoch 10/10\n",
      "4/4 [==============================] - 0s 13ms/step - loss: 0.0011 - accuracy: 1.0000 - val_loss: 0.0011 - val_accuracy: 1.0000\n"
     ]
    }
   ],
   "source": [
    "history = model.fit(x_train,y_train,epochs=10,validation_split=0.2)"
   ],
   "metadata": {
    "collapsed": false,
    "ExecuteTime": {
     "end_time": "2023-12-28T23:40:01.869642100Z",
     "start_time": "2023-12-28T23:40:00.421716200Z"
    }
   },
   "id": "7d0e3fc31d542083"
  },
  {
   "cell_type": "code",
   "execution_count": 108,
   "outputs": [
    {
     "name": "stdout",
     "output_type": "stream",
     "text": [
      "1/1 [==============================] - 0s 40ms/step - loss: 0.0197 - accuracy: 1.0000\n"
     ]
    },
    {
     "data": {
      "text/plain": "[0.019744334742426872, 1.0]"
     },
     "execution_count": 108,
     "metadata": {},
     "output_type": "execute_result"
    }
   ],
   "source": [
    "model.evaluate(x_test,y_test)"
   ],
   "metadata": {
    "collapsed": false,
    "ExecuteTime": {
     "end_time": "2023-12-28T23:40:18.582493700Z",
     "start_time": "2023-12-28T23:40:18.498218900Z"
    }
   },
   "id": "ecdd6b6dc3715e30"
  },
  {
   "cell_type": "code",
   "execution_count": 126,
   "outputs": [
    {
     "name": "stdout",
     "output_type": "stream",
     "text": [
      "1/1 [==============================] - 0s 17ms/step\n"
     ]
    },
    {
     "data": {
      "text/plain": "array([[0.999956]], dtype=float32)"
     },
     "execution_count": 126,
     "metadata": {},
     "output_type": "execute_result"
    }
   ],
   "source": [
    "model.predict(np.array(x_test[5]).reshape(1,50,200,1))"
   ],
   "metadata": {
    "collapsed": false,
    "ExecuteTime": {
     "end_time": "2023-12-28T23:44:57.648820100Z",
     "start_time": "2023-12-28T23:44:57.595106300Z"
    }
   },
   "id": "347a855c9bc1d10c"
  },
  {
   "cell_type": "code",
   "execution_count": 123,
   "outputs": [
    {
     "data": {
      "text/plain": "(1, 50, 200, 1)"
     },
     "execution_count": 123,
     "metadata": {},
     "output_type": "execute_result"
    }
   ],
   "source": [
    "np.array(x_test[0]).reshape(1,50,200,1).shape"
   ],
   "metadata": {
    "collapsed": false,
    "ExecuteTime": {
     "end_time": "2023-12-28T23:44:27.105152700Z",
     "start_time": "2023-12-28T23:44:27.064019700Z"
    }
   },
   "id": "552b0cdb574c77ad"
  },
  {
   "cell_type": "code",
   "execution_count": 125,
   "outputs": [
    {
     "data": {
      "text/plain": "array([0, 0, 0, 0, 0, 1, 0, 1, 0, 0, 0, 1, 0, 1])"
     },
     "execution_count": 125,
     "metadata": {},
     "output_type": "execute_result"
    }
   ],
   "source": [
    "y_test"
   ],
   "metadata": {
    "collapsed": false,
    "ExecuteTime": {
     "end_time": "2023-12-28T23:44:51.539703Z",
     "start_time": "2023-12-28T23:44:51.514676900Z"
    }
   },
   "id": "7d489fc29734eb30"
  },
  {
   "cell_type": "code",
   "execution_count": null,
   "outputs": [],
   "source": [
    "plt.figure(figsize=(12, 4))\n",
    "plt.subplot(1, 2, 1)\n",
    "plt.plot(history.history['accuracy'], label='Training Accuracy')\n",
    "plt.plot(history.history['val_accuracy'], label='Validation Accuracy')\n",
    "plt.xlabel('Epoch')\n",
    "plt.ylabel('Accuracy')\n",
    "plt.legend()"
   ],
   "metadata": {
    "collapsed": false
   },
   "id": "6323259cc93301a3"
  },
  {
   "cell_type": "code",
   "execution_count": 129,
   "outputs": [
    {
     "data": {
      "text/plain": "<Figure size 640x480 with 1 Axes>",
      "image/png": "[encoded data removed]"
     },
     "metadata": {},
     "output_type": "display_data"
    }
   ],
   "source": [
    "plt.imshow(x_test[7], cmap='gray')\n",
    "plt.show()"
   ],
   "metadata": {
    "collapsed": false,
    "ExecuteTime": {
     "end_time": "2023-12-28T23:45:36.341262300Z",
     "start_time": "2023-12-28T23:45:36.254693900Z"
    }
   },
   "id": "3fe2402aba56ba66"
  },
  {
   "cell_type": "code",
   "execution_count": 18,
   "outputs": [
    {
     "data": {
      "text/plain": "<Figure size 640x480 with 1 Axes>",
      "image/png": "[encoded data removed]"
     },
     "metadata": {},
     "output_type": "display_data"
    }
   ],
   "source": [
    "plt.imshow(list2[0], cmap='gray')\n",
    "plt.show()"
   ],
   "metadata": {
    "collapsed": false,
    "ExecuteTime": {
     "end_time": "2023-12-28T22:47:42.941659900Z",
     "start_time": "2023-12-28T22:47:42.869006900Z"
    }
   },
   "id": "e7f82cabe5b39cd2"
  },
  {
   "cell_type": "code",
   "execution_count": 134,
   "outputs": [],
   "source": [],
   "metadata": {
    "collapsed": false
   },
   "id": "a47140843e9fca4c"
  },
  {
   "cell_type": "code",
   "execution_count": 135,
   "outputs": [],
   "source": [],
   "metadata": {
    "collapsed": false,
    "ExecuteTime": {
     "end_time": "2023-12-29T00:17:43.616143400Z",
     "start_time": "2023-12-29T00:17:40.243666700Z"
    }
   },
   "id": "5b239ea182af6a1b"
  }
 ],
 "metadata": {
  "kernelspec": {
   "display_name": "Python 3",
   "language": "python",
   "name": "python3"
  },
  "language_info": {
   "codemirror_mode": {
    "name": "ipython",
    "version": 2
   },
   "file_extension": ".py",
   "mimetype": "text/x-python",
   "name": "python",
   "nbconvert_exporter": "python",
   "pygments_lexer": "ipython2",
   "version": "2.7.6"
  }
 },
 "nbformat": 4,
 "nbformat_minor": 5
}
