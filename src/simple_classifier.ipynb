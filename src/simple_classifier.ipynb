{
 "cells": [
  {
   "cell_type": "code",
   "execution_count": 1,
   "id": "initial_id",
   "metadata": {
    "collapsed": true,
    "ExecuteTime": {
     "end_time": "2023-12-29T03:13:47.479146500Z",
     "start_time": "2023-12-29T03:13:43.632699600Z"
    }
   },
   "outputs": [],
   "source": [
    "import cv2\n",
    "import numpy as np\n",
    "from matplotlib import pyplot as plt \n",
    "\n",
    "from PIL import Image, ImageDraw, ImageFont\n",
    "import tensorflow as tf\n",
    "from os import listdir\n",
    "import pandas as pd\n",
    "from sklearn.model_selection import train_test_split\n",
    "from sklearn.preprocessing import OneHotEncoder"
   ]
  },
  {
   "cell_type": "code",
   "execution_count": 2,
   "outputs": [
    {
     "name": "stdout",
     "output_type": "stream",
     "text": [
      "[PhysicalDevice(name='/physical_device:GPU:0', device_type='GPU')]\n"
     ]
    }
   ],
   "source": [
    "print(tf.config.list_physical_devices('GPU'))"
   ],
   "metadata": {
    "collapsed": false,
    "ExecuteTime": {
     "end_time": "2023-12-29T03:13:49.001883400Z",
     "start_time": "2023-12-29T03:13:48.941674500Z"
    }
   },
   "id": "c9c98e2375598240"
  },
  {
   "cell_type": "code",
   "execution_count": 3,
   "outputs": [],
   "source": [
    "def read_file(dir:str):\n",
    "    list = []\n",
    "    for f in listdir(dir):\n",
    "        list.append(cv2.imread(dir+f))\n",
    "    return np.array([image.sum(axis=-1, keepdims=True) for image in list], dtype=np.uint8)\n",
    "    #return np.array([(image.sum(axis=-1, keepdims=True)).reshape(-1) for image in list],dtype=np.uint8)"
   ],
   "metadata": {
    "collapsed": false,
    "ExecuteTime": {
     "end_time": "2023-12-29T03:13:50.544087200Z",
     "start_time": "2023-12-29T03:13:50.534064700Z"
    }
   },
   "id": "70bfc855df6918a3"
  },
  {
   "cell_type": "code",
   "execution_count": 4,
   "outputs": [],
   "source": [
    "fonts = [\"Carattere-Regula\",\"Sacramento-Regula\",\"Sevillana-Regula\",\"SingleDay-Regula\"]"
   ],
   "metadata": {
    "collapsed": false,
    "ExecuteTime": {
     "end_time": "2023-12-29T03:13:52.239720800Z",
     "start_time": "2023-12-29T03:13:52.230000700Z"
    }
   },
   "id": "246deee499e3b899"
  },
  {
   "cell_type": "code",
   "execution_count": 5,
   "outputs": [
    {
     "data": {
      "text/plain": "(8004, 50, 200, 1)"
     },
     "execution_count": 5,
     "metadata": {},
     "output_type": "execute_result"
    }
   ],
   "source": [
    "x_train = np.concatenate([read_file(f\"../resources/data/class_test/{font}/\")for font in fonts])\n",
    "x_train.shape"
   ],
   "metadata": {
    "collapsed": false,
    "ExecuteTime": {
     "end_time": "2023-12-29T03:13:56.413193600Z",
     "start_time": "2023-12-29T03:13:53.453270400Z"
    }
   },
   "id": "72b07316ae795ed5"
  },
  {
   "cell_type": "code",
   "execution_count": 6,
   "outputs": [
    {
     "data": {
      "text/plain": "(8004, 4)"
     },
     "execution_count": 6,
     "metadata": {},
     "output_type": "execute_result"
    }
   ],
   "source": [
    "y_train = np.concatenate([([i]*int(len(x_train)/len(fonts))) for i in range(len(fonts))])\n",
    "enc = OneHotEncoder(sparse_output=False)\n",
    "y_train = enc.fit_transform(y_train.reshape(-1,1))\n",
    "y_train.shape"
   ],
   "metadata": {
    "collapsed": false,
    "ExecuteTime": {
     "end_time": "2023-12-29T03:14:02.921251600Z",
     "start_time": "2023-12-29T03:14:02.902433200Z"
    }
   },
   "id": "34a19818450cc299"
  },
  {
   "cell_type": "code",
   "execution_count": 7,
   "outputs": [],
   "source": [
    "x_train, x_test, y_train, y_test = train_test_split(x_train,y_train, test_size=0.10, random_state=99)"
   ],
   "metadata": {
    "collapsed": false,
    "ExecuteTime": {
     "end_time": "2023-12-29T03:14:06.108879Z",
     "start_time": "2023-12-29T03:14:06.077825600Z"
    }
   },
   "id": "c202d4e2d0c98ef7"
  },
  {
   "cell_type": "code",
   "execution_count": 8,
   "outputs": [],
   "source": [
    "\n",
    "tf.keras.backend.clear_session()\n",
    "model = tf.keras.Sequential(\n",
    "    [\n",
    "        tf.keras.layers.GaussianNoise(0.15, input_shape=(50, 200, 1)),\n",
    "        tf.keras.layers.Conv2D(32, (3,3), activation='relu'),\n",
    "        tf.keras.layers.MaxPooling2D((3, 3), strides=4),\n",
    "        tf.keras.layers.SpatialDropout2D(0.2),\n",
    "        tf.keras.layers.Conv2D(48, (3,3), activation='relu'),\n",
    "        tf.keras.layers.MaxPooling2D((3, 3), strides=4),\n",
    "        tf.keras.layers.SpatialDropout2D(0.2),\n",
    "        tf.keras.layers.Flatten(),\n",
    "        tf.keras.layers.Dense(32, activation=\"relu\"),\n",
    "        tf.keras.layers.Dense(4, activation=\"softmax\")\n",
    "    ]\n",
    ")\n",
    "\n",
    "model.compile(loss='categorical_crossentropy', optimizer='adam', metrics=['accuracy'])"
   ],
   "metadata": {
    "collapsed": false,
    "ExecuteTime": {
     "end_time": "2023-12-29T03:14:12.301981100Z",
     "start_time": "2023-12-29T03:14:11.487805700Z"
    }
   },
   "id": "49022a7184611716"
  },
  {
   "cell_type": "code",
   "execution_count": 9,
   "outputs": [
    {
     "name": "stdout",
     "output_type": "stream",
     "text": [
      "Model: \"sequential\"\n",
      "_________________________________________________________________\n",
      " Layer (type)                Output Shape              Param #   \n",
      "=================================================================\n",
      " gaussian_noise (GaussianNoi  (None, 50, 200, 1)       0         \n",
      " se)                                                             \n",
      "                                                                 \n",
      " conv2d (Conv2D)             (None, 48, 198, 32)       320       \n",
      "                                                                 \n",
      " max_pooling2d (MaxPooling2D  (None, 12, 49, 32)       0         \n",
      " )                                                               \n",
      "                                                                 \n",
      " spatial_dropout2d (SpatialD  (None, 12, 49, 32)       0         \n",
      " ropout2D)                                                       \n",
      "                                                                 \n",
      " conv2d_1 (Conv2D)           (None, 10, 47, 48)        13872     \n",
      "                                                                 \n",
      " max_pooling2d_1 (MaxPooling  (None, 2, 12, 48)        0         \n",
      " 2D)                                                             \n",
      "                                                                 \n",
      " spatial_dropout2d_1 (Spatia  (None, 2, 12, 48)        0         \n",
      " lDropout2D)                                                     \n",
      "                                                                 \n",
      " flatten (Flatten)           (None, 1152)              0         \n",
      "                                                                 \n",
      " dense (Dense)               (None, 32)                36896     \n",
      "                                                                 \n",
      " dense_1 (Dense)             (None, 4)                 132       \n",
      "                                                                 \n",
      "=================================================================\n",
      "Total params: 51,220\n",
      "Trainable params: 51,220\n",
      "Non-trainable params: 0\n",
      "_________________________________________________________________\n"
     ]
    }
   ],
   "source": [
    "model.summary()"
   ],
   "metadata": {
    "collapsed": false,
    "ExecuteTime": {
     "end_time": "2023-12-29T03:14:14.354829600Z",
     "start_time": "2023-12-29T03:14:14.317564600Z"
    }
   },
   "id": "c60a647ef4cfd6f4"
  },
  {
   "cell_type": "code",
   "execution_count": 11,
   "outputs": [
    {
     "name": "stdout",
     "output_type": "stream",
     "text": [
      "Epoch 1/20\n",
      "181/181 [==============================] - 1s 6ms/step - loss: 0.0068 - accuracy: 0.9970 - val_loss: 1.4021e-04 - val_accuracy: 1.0000\n",
      "Epoch 2/20\n",
      "181/181 [==============================] - 1s 6ms/step - loss: 0.0059 - accuracy: 0.9974 - val_loss: 1.9595e-05 - val_accuracy: 1.0000\n",
      "Epoch 3/20\n",
      "181/181 [==============================] - 1s 6ms/step - loss: 0.0031 - accuracy: 0.9990 - val_loss: 2.9013e-05 - val_accuracy: 1.0000\n",
      "Epoch 4/20\n",
      "181/181 [==============================] - 1s 6ms/step - loss: 0.0038 - accuracy: 0.9990 - val_loss: 3.4545e-05 - val_accuracy: 1.0000\n",
      "Epoch 5/20\n",
      "181/181 [==============================] - 1s 6ms/step - loss: 0.0176 - accuracy: 0.9951 - val_loss: 4.4858e-04 - val_accuracy: 1.0000\n",
      "Epoch 6/20\n",
      "181/181 [==============================] - 1s 6ms/step - loss: 0.0084 - accuracy: 0.9969 - val_loss: 2.7242e-05 - val_accuracy: 1.0000\n",
      "Epoch 7/20\n",
      "181/181 [==============================] - 1s 6ms/step - loss: 0.0110 - accuracy: 0.9964 - val_loss: 5.2822e-05 - val_accuracy: 1.0000\n",
      "Epoch 8/20\n",
      "181/181 [==============================] - 1s 6ms/step - loss: 0.0052 - accuracy: 0.9988 - val_loss: 8.2539e-05 - val_accuracy: 1.0000\n",
      "Epoch 9/20\n",
      "181/181 [==============================] - 1s 6ms/step - loss: 0.0051 - accuracy: 0.9983 - val_loss: 7.5201e-06 - val_accuracy: 1.0000\n",
      "Epoch 10/20\n",
      "181/181 [==============================] - 1s 6ms/step - loss: 0.0067 - accuracy: 0.9981 - val_loss: 2.3451e-04 - val_accuracy: 1.0000\n",
      "Epoch 11/20\n",
      "181/181 [==============================] - 1s 6ms/step - loss: 0.0047 - accuracy: 0.9983 - val_loss: 6.1298e-06 - val_accuracy: 1.0000\n",
      "Epoch 12/20\n",
      "181/181 [==============================] - 1s 6ms/step - loss: 0.0082 - accuracy: 0.9976 - val_loss: 2.4071e-05 - val_accuracy: 1.0000\n",
      "Epoch 13/20\n",
      "181/181 [==============================] - 1s 6ms/step - loss: 0.0017 - accuracy: 0.9995 - val_loss: 1.0303e-05 - val_accuracy: 1.0000\n",
      "Epoch 14/20\n",
      "181/181 [==============================] - 1s 6ms/step - loss: 0.0178 - accuracy: 0.9962 - val_loss: 1.4887e-04 - val_accuracy: 1.0000\n",
      "Epoch 15/20\n",
      "181/181 [==============================] - 1s 6ms/step - loss: 0.0042 - accuracy: 0.9990 - val_loss: 4.2878e-06 - val_accuracy: 1.0000\n",
      "Epoch 16/20\n",
      "181/181 [==============================] - 1s 6ms/step - loss: 0.0015 - accuracy: 0.9995 - val_loss: 1.9270e-05 - val_accuracy: 1.0000\n",
      "Epoch 17/20\n",
      "181/181 [==============================] - 1s 6ms/step - loss: 0.0032 - accuracy: 0.9988 - val_loss: 6.2464e-07 - val_accuracy: 1.0000\n",
      "Epoch 18/20\n",
      "181/181 [==============================] - 1s 6ms/step - loss: 0.0027 - accuracy: 0.9993 - val_loss: 0.0025 - val_accuracy: 0.9993\n",
      "Epoch 19/20\n",
      "181/181 [==============================] - 1s 6ms/step - loss: 0.0176 - accuracy: 0.9955 - val_loss: 6.5250e-06 - val_accuracy: 1.0000\n",
      "Epoch 20/20\n",
      "181/181 [==============================] - 1s 6ms/step - loss: 0.0157 - accuracy: 0.9972 - val_loss: 9.6866e-06 - val_accuracy: 1.0000\n"
     ]
    }
   ],
   "source": [
    "history = model.fit(x_train,y_train,epochs=20,validation_split=0.2)"
   ],
   "metadata": {
    "collapsed": false,
    "ExecuteTime": {
     "end_time": "2023-12-29T03:15:26.536047700Z",
     "start_time": "2023-12-29T03:15:04.131074700Z"
    }
   },
   "id": "7d0e3fc31d542083"
  },
  {
   "cell_type": "code",
   "execution_count": 12,
   "outputs": [
    {
     "data": {
      "text/plain": "<matplotlib.legend.Legend at 0x12dc728b4f0>"
     },
     "execution_count": 12,
     "metadata": {},
     "output_type": "execute_result"
    },
    {
     "data": {
      "text/plain": "<Figure size 1200x400 with 1 Axes>",
      "image/png": "[encoded data removed]"
     },
     "metadata": {},
     "output_type": "display_data"
    }
   ],
   "source": [
    "plt.figure(figsize=(12, 4))\n",
    "plt.subplot(1, 2, 1)\n",
    "plt.plot(history.history['accuracy'], label='Training Accuracy')\n",
    "plt.plot(history.history['val_accuracy'], label='Validation Accuracy')\n",
    "plt.xlabel('Epoch')\n",
    "plt.ylabel('Accuracy')\n",
    "plt.legend()"
   ],
   "metadata": {
    "collapsed": false,
    "ExecuteTime": {
     "end_time": "2023-12-29T03:15:26.707688200Z",
     "start_time": "2023-12-29T03:15:26.538827600Z"
    }
   },
   "id": "6323259cc93301a3"
  },
  {
   "cell_type": "code",
   "execution_count": 13,
   "outputs": [
    {
     "name": "stdout",
     "output_type": "stream",
     "text": [
      "26/26 [==============================] - 0s 3ms/step - loss: 1.8669e-05 - accuracy: 1.0000\n"
     ]
    },
    {
     "data": {
      "text/plain": "[1.8669436030904762e-05, 1.0]"
     },
     "execution_count": 13,
     "metadata": {},
     "output_type": "execute_result"
    }
   ],
   "source": [
    "model.evaluate(x_test,y_test)"
   ],
   "metadata": {
    "collapsed": false,
    "ExecuteTime": {
     "end_time": "2023-12-29T03:15:26.875767300Z",
     "start_time": "2023-12-29T03:15:26.708348500Z"
    }
   },
   "id": "ecdd6b6dc3715e30"
  },
  {
   "cell_type": "code",
   "execution_count": 49,
   "outputs": [
    {
     "name": "stdout",
     "output_type": "stream",
     "text": [
      "1/1 [==============================] - 0s 344ms/step\n"
     ]
    },
    {
     "data": {
      "text/plain": "array([[9.9977273e-01, 1.3189140e-05, 1.5922078e-08, 2.1406691e-04]],\n      dtype=float32)"
     },
     "execution_count": 49,
     "metadata": {},
     "output_type": "execute_result"
    }
   ],
   "source": [
    "model.predict(np.array(x_test[5]).reshape(1,50,200,1))"
   ],
   "metadata": {
    "collapsed": false,
    "ExecuteTime": {
     "end_time": "2023-12-29T02:06:05.015469400Z",
     "start_time": "2023-12-29T02:06:04.635129500Z"
    }
   },
   "id": "347a855c9bc1d10c"
  },
  {
   "cell_type": "code",
   "execution_count": 123,
   "outputs": [
    {
     "data": {
      "text/plain": "(1, 50, 200, 1)"
     },
     "execution_count": 123,
     "metadata": {},
     "output_type": "execute_result"
    }
   ],
   "source": [
    "np.array(x_test[0]).reshape(1,50,200,1).shape"
   ],
   "metadata": {
    "collapsed": false,
    "ExecuteTime": {
     "start_time": "2023-12-28T23:44:27.064019700Z"
    }
   },
   "id": "552b0cdb574c77ad"
  },
  {
   "cell_type": "code",
   "execution_count": 47,
   "outputs": [
    {
     "data": {
      "text/plain": "array([[1., 0., 0., 0.],\n       [1., 0., 0., 0.],\n       [1., 0., 0., 0.],\n       [0., 1., 0., 0.],\n       [0., 0., 1., 0.],\n       [1., 0., 0., 0.],\n       [0., 1., 0., 0.],\n       [0., 0., 0., 1.],\n       [0., 0., 0., 1.],\n       [0., 1., 0., 0.],\n       [0., 0., 0., 1.],\n       [0., 0., 0., 1.],\n       [0., 0., 1., 0.],\n       [1., 0., 0., 0.],\n       [0., 0., 1., 0.],\n       [0., 1., 0., 0.],\n       [1., 0., 0., 0.],\n       [1., 0., 0., 0.],\n       [0., 0., 0., 1.],\n       [0., 0., 1., 0.],\n       [1., 0., 0., 0.],\n       [0., 0., 1., 0.],\n       [1., 0., 0., 0.],\n       [0., 0., 1., 0.],\n       [0., 1., 0., 0.],\n       [1., 0., 0., 0.]])"
     },
     "execution_count": 47,
     "metadata": {},
     "output_type": "execute_result"
    }
   ],
   "source": [
    "y_test"
   ],
   "metadata": {
    "collapsed": false,
    "ExecuteTime": {
     "end_time": "2023-12-29T02:02:27.497627100Z",
     "start_time": "2023-12-29T02:02:27.492605Z"
    }
   },
   "id": "7d489fc29734eb30"
  },
  {
   "cell_type": "code",
   "execution_count": 48,
   "outputs": [
    {
     "data": {
      "text/plain": "<Figure size 640x480 with 1 Axes>",
      "image/png": "[encoded data removed]"
     },
     "metadata": {},
     "output_type": "display_data"
    }
   ],
   "source": [
    "plt.imshow(x_test[7], cmap='gray')\n",
    "plt.show()"
   ],
   "metadata": {
    "collapsed": false,
    "ExecuteTime": {
     "end_time": "2023-12-29T02:02:42.226637800Z",
     "start_time": "2023-12-29T02:02:42.133831600Z"
    }
   },
   "id": "3fe2402aba56ba66"
  },
  {
   "cell_type": "code",
   "execution_count": 18,
   "outputs": [
    {
     "data": {
      "text/plain": "<Figure size 640x480 with 1 Axes>",
      "image/png": "[encoded data removed]"
     },
     "metadata": {},
     "output_type": "display_data"
    }
   ],
   "source": [
    "plt.imshow(list2[0], cmap='gray')\n",
    "plt.show()"
   ],
   "metadata": {
    "collapsed": false,
    "ExecuteTime": {
     "end_time": "2023-12-28T22:47:42.941659900Z",
     "start_time": "2023-12-28T22:47:42.869006900Z"
    }
   },
   "id": "e7f82cabe5b39cd2"
  },
  {
   "cell_type": "code",
   "execution_count": 134,
   "outputs": [],
   "source": [],
   "metadata": {
    "collapsed": false
   },
   "id": "a47140843e9fca4c"
  },
  {
   "cell_type": "code",
   "execution_count": 135,
   "outputs": [],
   "source": [],
   "metadata": {
    "collapsed": false,
    "ExecuteTime": {
     "end_time": "2023-12-29T00:17:43.616143400Z",
     "start_time": "2023-12-29T00:17:40.243666700Z"
    }
   },
   "id": "5b239ea182af6a1b"
  }
 ],
 "metadata": {
  "kernelspec": {
   "display_name": "Python 3",
   "language": "python",
   "name": "python3"
  },
  "language_info": {
   "codemirror_mode": {
    "name": "ipython",
    "version": 2
   },
   "file_extension": ".py",
   "mimetype": "text/x-python",
   "name": "python",
   "nbconvert_exporter": "python",
   "pygments_lexer": "ipython2",
   "version": "2.7.6"
  }
 },
 "nbformat": 4,
 "nbformat_minor": 5
}
