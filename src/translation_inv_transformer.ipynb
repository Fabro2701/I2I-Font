{
 "cells": [
  {
   "cell_type": "code",
   "execution_count": 1,
   "outputs": [],
   "source": [
    "import random\n",
    "\n",
    "import tensorflow as tf\n",
    "import os\n",
    "import time\n",
    "import matplotlib.pyplot as plt\n",
    "from IPython import display\n",
    "from IPython.display import clear_output\n",
    "\n",
    "from InstaceNormalization import InstanceNormalization"
   ],
   "metadata": {
    "collapsed": false,
    "ExecuteTime": {
     "end_time": "2024-04-22T20:48:13.612677900Z",
     "start_time": "2024-04-22T20:48:10.169424800Z"
    }
   },
   "id": "86bd7b597a4f16a2"
  },
  {
   "cell_type": "code",
   "execution_count": 2,
   "outputs": [],
   "source": [
    "AUTOTUNE = tf.data.AUTOTUNE\n",
    "PATH = '../'\n",
    "BUFFER_SIZE=1000\n",
    "BATCH_SIZE=16"
   ],
   "metadata": {
    "collapsed": false,
    "ExecuteTime": {
     "end_time": "2024-04-22T20:48:13.627385500Z",
     "start_time": "2024-04-22T20:48:13.616224100Z"
    }
   },
   "id": "49ad6c7296792f87"
  },
  {
   "cell_type": "code",
   "execution_count": 66,
   "outputs": [],
   "source": [
    "def load(image_file):\n",
    "    image = tf.io.read_file(image_file)\n",
    "    image = tf.io.decode_jpeg(image)\n",
    "    image = tf.cast(image, tf.float32)\n",
    "    image = tf.reduce_max(image, axis=-1, keepdims=True)\n",
    "\n",
    "    image = (image / 127.5) - 1.0\n",
    "    return image"
   ],
   "metadata": {
    "collapsed": false,
    "ExecuteTime": {
     "end_time": "2024-04-23T00:41:34.127680600Z",
     "start_time": "2024-04-23T00:41:34.111729800Z"
    }
   },
   "id": "3fff4bc333f0324d"
  },
  {
   "cell_type": "code",
   "execution_count": 83,
   "outputs": [],
   "source": [
    "def shift(image):\n",
    "    rangew, rangeh = 5, 20\n",
    "    rndw,rndh = random.randint(-rangew,rangew),random.randint(-rangeh,rangeh) #random pixel shift\n",
    "    if rndh>0:\n",
    "        image = tf.pad(image, [[abs(rndh), 0], [0, 0], [0, 0]], constant_values=-1.0)\n",
    "    else:\n",
    "        image = tf.pad(image, [[0, abs(rndh)], [0, 0], [0, 0]], constant_values=-1.0)\n",
    "    if rndw>0:\n",
    "        image = tf.pad(image, [[0, 0], [abs(rndw), 0], [0, 0]], constant_values=-1.0)\n",
    "    else:\n",
    "        image = tf.pad(image, [[0, 0], [0, abs(rndw)], [0, 0]], constant_values=-1.0)\n",
    "        \n",
    "    woffset = abs(rndw) if rndw<0 else 0\n",
    "    hoffset = abs(rndh) if rndh<0 else 0\n",
    "    image = tf.image.crop_to_bounding_box(image, hoffset, woffset, 64,64)\n",
    "    return image"
   ],
   "metadata": {
    "collapsed": false,
    "ExecuteTime": {
     "end_time": "2024-04-23T00:46:04.483375Z",
     "start_time": "2024-04-23T00:46:04.467333500Z"
    }
   },
   "id": "f41332c9b34546e3"
  },
  {
   "cell_type": "code",
   "execution_count": 87,
   "outputs": [],
   "source": [
    "def create_content_dataset():\n",
    "    train_dataset_1 = tf.data.Dataset.list_files(str(PATH + 'resources/data/class_test/Roboto-Regular/*.jpg'), shuffle=False).map(load,num_parallel_calls=AUTOTUNE)\n",
    "   \n",
    "    train_dataset = tf.data.Dataset.zip((train_dataset_1.map(shift,num_parallel_calls=AUTOTUNE),\n",
    "                                         train_dataset_1.map(shift,num_parallel_calls=AUTOTUNE),\n",
    "                                         train_dataset_1.map(shift,num_parallel_calls=AUTOTUNE),\n",
    "                                         train_dataset_1))\n",
    " \n",
    "    train_dataset = train_dataset.shuffle(BUFFER_SIZE*4)\n",
    "    \n",
    "    train_size = int(0.85 * train_dataset.cardinality().numpy())\n",
    "    test_dataset = train_dataset.skip(train_size)\n",
    "    train_dataset = train_dataset.take(train_size)\n",
    "    \n",
    "    train_dataset = train_dataset.batch(BATCH_SIZE)\n",
    "    test_dataset = test_dataset.batch(BATCH_SIZE)\n",
    "    \n",
    "    return train_dataset, test_dataset\n"
   ],
   "metadata": {
    "collapsed": false,
    "ExecuteTime": {
     "end_time": "2024-04-23T00:47:07.582591800Z",
     "start_time": "2024-04-23T00:47:07.570063800Z"
    }
   },
   "id": "e495c96a13e317b8"
  },
  {
   "cell_type": "code",
   "execution_count": 88,
   "outputs": [],
   "source": [
    "train_dataset, test_dataset = create_content_dataset()"
   ],
   "metadata": {
    "collapsed": false,
    "ExecuteTime": {
     "end_time": "2024-04-23T00:47:08.249711300Z",
     "start_time": "2024-04-23T00:47:08.094584900Z"
    }
   },
   "id": "5ece9109358dbde6"
  },
  {
   "cell_type": "code",
   "execution_count": 89,
   "outputs": [
    {
     "data": {
      "text/plain": "<matplotlib.image.AxesImage at 0x1a4d4a25cc0>"
     },
     "execution_count": 89,
     "metadata": {},
     "output_type": "execute_result"
    },
    {
     "data": {
      "text/plain": "<Figure size 640x480 with 4 Axes>",
      "image/png": "[encoded data removed]"
     },
     "metadata": {},
     "output_type": "display_data"
    }
   ],
   "source": [
    "sample_1 = next(iter(train_dataset))\n",
    "plt.subplot(241)\n",
    "plt.imshow(sample_1[0][0] * 0.5 + 0.5, cmap='gray')\n",
    "plt.subplot(242)\n",
    "plt.imshow(sample_1[1][0] * 0.5 + 0.5, cmap='gray')\n",
    "plt.subplot(243)\n",
    "plt.imshow(sample_1[2][0] * 0.5 + 0.5, cmap='gray')\n",
    "plt.subplot(244)\n",
    "plt.imshow(sample_1[-1][0] * 0.5 + 0.5, cmap='gray')\n",
    "\n"
   ],
   "metadata": {
    "collapsed": false,
    "ExecuteTime": {
     "end_time": "2024-04-23T00:47:09.868308800Z",
     "start_time": "2024-04-23T00:47:08.624620400Z"
    }
   },
   "id": "e305bb09c09d5033"
  },
  {
   "cell_type": "code",
   "execution_count": 92,
   "outputs": [
    {
     "data": {
      "text/plain": "(array([4023.,    0.,    0.,    0.,    0.,    0.,    0.,    0.,    0.,\n          73.]),\n array([-1. , -0.8, -0.6, -0.4, -0.2,  0. ,  0.2,  0.4,  0.6,  0.8,  1. ],\n       dtype=float32),\n <BarContainer object of 10 artists>)"
     },
     "execution_count": 92,
     "metadata": {},
     "output_type": "execute_result"
    },
    {
     "data": {
      "text/plain": "<Figure size 640x480 with 1 Axes>",
      "image/png": "[encoded data removed]"
     },
     "metadata": {},
     "output_type": "display_data"
    }
   ],
   "source": [
    "plt.hist(sample_1[-1][0].numpy().flatten())"
   ],
   "metadata": {
    "collapsed": false,
    "ExecuteTime": {
     "end_time": "2024-04-23T00:47:44.805655200Z",
     "start_time": "2024-04-23T00:47:44.654776400Z"
    }
   },
   "id": "66070ba6824a2b23"
  },
  {
   "cell_type": "code",
   "execution_count": null,
   "outputs": [],
   "source": [],
   "metadata": {
    "collapsed": false
   },
   "id": "239ae31e41cf1d85"
  }
 ],
 "metadata": {
  "kernelspec": {
   "display_name": "Python 3",
   "language": "python",
   "name": "python3"
  },
  "language_info": {
   "codemirror_mode": {
    "name": "ipython",
    "version": 2
   },
   "file_extension": ".py",
   "mimetype": "text/x-python",
   "name": "python",
   "nbconvert_exporter": "python",
   "pygments_lexer": "ipython2",
   "version": "2.7.6"
  }
 },
 "nbformat": 4,
 "nbformat_minor": 5
}
