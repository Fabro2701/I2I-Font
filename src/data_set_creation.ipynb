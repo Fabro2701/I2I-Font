{
 "cells": [
  {
   "cell_type": "code",
   "execution_count": 2,
   "id": "initial_id",
   "metadata": {
    "collapsed": true,
    "ExecuteTime": {
     "end_time": "2023-12-28T21:05:52.956091300Z",
     "start_time": "2023-12-28T21:05:52.584043300Z"
    }
   },
   "outputs": [],
   "source": [
    "import cv2\n",
    "import numpy as np\n",
    "from matplotlib import pyplot as plt \n",
    "from PIL import Image\n"
   ]
  },
  {
   "cell_type": "code",
   "execution_count": 43,
   "outputs": [
    {
     "data": {
      "text/plain": "(50, 200, 1)"
     },
     "execution_count": 43,
     "metadata": {},
     "output_type": "execute_result"
    }
   ],
   "source": [
    "height = 50\n",
    "width = 200\n",
    "blank_image = np.zeros((height,width,1),dtype=np.uint8)\n",
    "blank_image.shape"
   ],
   "metadata": {
    "collapsed": false,
    "ExecuteTime": {
     "end_time": "2023-12-28T21:40:41.687729900Z",
     "start_time": "2023-12-28T21:40:41.676706900Z"
    }
   },
   "id": "e0de5b5765380cb2"
  },
  {
   "cell_type": "code",
   "execution_count": 4,
   "outputs": [
    {
     "data": {
      "text/plain": "<Figure size 640x480 with 1 Axes>",
      "image/png": "[encoded data removed]"
     },
     "metadata": {},
     "output_type": "display_data"
    }
   ],
   "source": [
    "plt.imshow(blank_image, cmap='gray')\n",
    "plt.show()"
   ],
   "metadata": {
    "collapsed": false,
    "ExecuteTime": {
     "end_time": "2023-12-28T21:05:53.079805900Z",
     "start_time": "2023-12-28T21:05:52.981232800Z"
    }
   },
   "id": "2e7259a60adc1849"
  },
  {
   "cell_type": "code",
   "execution_count": 5,
   "outputs": [
    {
     "data": {
      "text/plain": "<PIL.Image.Image image mode=L size=50x50>",
      "image/png": "[encoded data removed]",
      "image/jpeg": "[encoded data removed]"
     },
     "execution_count": 5,
     "metadata": {},
     "output_type": "execute_result"
    }
   ],
   "source": [
    "Image.fromarray(blank_image.reshape(height,width))"
   ],
   "metadata": {
    "collapsed": false,
    "ExecuteTime": {
     "end_time": "2023-12-28T21:05:53.187653700Z",
     "start_time": "2023-12-28T21:05:53.159052600Z"
    }
   },
   "id": "77b07ed2fff08767"
  },
  {
   "cell_type": "code",
   "execution_count": 48,
   "outputs": [],
   "source": [
    "font = cv2.FONT_HERSHEY_SCRIPT_SIMPLEX  \n",
    "org = (0,30) \n",
    "fontScale = 1\n",
    "color = (255, 0, 0) \n",
    "thickness = 1\n",
    "\n",
    "image = cv2.putText(blank_image.copy(), 'OpenCV', org, font, fontScale, color, thickness, cv2.LINE_AA) "
   ],
   "metadata": {
    "collapsed": false,
    "ExecuteTime": {
     "end_time": "2023-12-28T21:42:09.549248200Z",
     "start_time": "2023-12-28T21:42:09.541205400Z"
    }
   },
   "id": "192b35b0615b7ad7"
  },
  {
   "cell_type": "code",
   "execution_count": 49,
   "outputs": [
    {
     "data": {
      "text/plain": "True"
     },
     "execution_count": 49,
     "metadata": {},
     "output_type": "execute_result"
    }
   ],
   "source": [
    "filename = \"test.png\"\n",
    "cv2.imwrite(\"../resources/data/class_test/\"+filename,image)"
   ],
   "metadata": {
    "collapsed": false,
    "ExecuteTime": {
     "end_time": "2023-12-28T21:42:10.497592100Z",
     "start_time": "2023-12-28T21:42:10.492174400Z"
    }
   },
   "id": "cf3d5082ec10dfe0"
  },
  {
   "cell_type": "code",
   "execution_count": 47,
   "outputs": [],
   "source": [
    "cv2.imshow(\"a\", image) \n",
    "cv2.waitKey(0)\n",
    "cv2.destroyAllWindows()"
   ],
   "metadata": {
    "collapsed": false,
    "ExecuteTime": {
     "end_time": "2023-12-28T21:41:05.870703Z",
     "start_time": "2023-12-28T21:40:50.292628900Z"
    }
   },
   "id": "810b6d4f1dfcd430"
  },
  {
   "cell_type": "code",
   "execution_count": 54,
   "outputs": [
    {
     "data": {
      "text/plain": "['Lorem',\n 'ipsum',\n 'dolor',\n 'sit',\n 'amet',\n 'consectetur',\n 'adipiscing',\n 'elit',\n 'sed',\n 'do',\n 'eiusmod',\n 'tempor',\n 'incididunt',\n 'ut',\n 'labore',\n 'et',\n 'dolore',\n 'magna',\n 'aliqua',\n 'Ut',\n 'enim',\n 'ad',\n 'minim',\n 'veniam',\n 'quis',\n 'nostrud',\n 'exercitation',\n 'ullamco',\n 'laboris',\n 'nisi',\n 'ut',\n 'aliquip',\n 'ex',\n 'ea',\n 'commodo',\n 'consequat',\n 'Duis',\n 'aute',\n 'irure',\n 'dolor',\n 'in',\n 'reprehenderit',\n 'in',\n 'voluptate',\n 'velit',\n 'esse',\n 'cillum',\n 'dolore',\n 'eu',\n 'fugiat',\n 'nulla',\n 'pariatur',\n 'Excepteur',\n 'sint',\n 'occaecat',\n 'cupidatat',\n 'non',\n 'proident',\n 'sunt',\n 'in',\n 'culpa',\n 'qui',\n 'officia',\n 'deserunt',\n 'mollit',\n 'anim',\n 'id',\n 'est',\n 'laborum']"
     },
     "execution_count": 54,
     "metadata": {},
     "output_type": "execute_result"
    }
   ],
   "source": [
    "text = \\\n",
    "\"\"\"Lorem ipsum dolor sit amet, consectetur adipiscing elit, sed do eiusmod tempor incididunt ut labore et dolore magna aliqua. Ut enim ad minim veniam, quis nostrud exercitation ullamco laboris nisi ut aliquip ex ea commodo consequat. Duis aute irure dolor in reprehenderit in voluptate velit esse cillum dolore eu fugiat nulla pariatur. Excepteur sint occaecat cupidatat non proident, sunt in culpa qui officia deserunt mollit anim id est laborum.\"\"\"\n",
    "text = text.replace('.', '').replace(',', '')\n",
    "word_list = text.split()\n",
    "word_list"
   ],
   "metadata": {
    "collapsed": false,
    "ExecuteTime": {
     "end_time": "2023-12-28T21:51:18.504449600Z",
     "start_time": "2023-12-28T21:51:18.490429900Z"
    }
   },
   "id": "f3616be8f9978625"
  },
  {
   "cell_type": "code",
   "execution_count": 66,
   "outputs": [],
   "source": [
    "num = 10\n",
    "org = (0,30) \n",
    "fontScale = 1\n",
    "color = (255, 0, 0) \n",
    "thickness = 1\n",
    "for font, font_label in zip([cv2.FONT_HERSHEY_SIMPLEX, cv2.FONT_HERSHEY_SCRIPT_SIMPLEX],[\"HERSHEY\",\"SCRIPT\"]):\n",
    "    for i in range(len(word_list)):\n",
    "        text_size = cv2.getTextSize(word_list[i], font, fontScale, thickness)[0]\n",
    "        x_start = int((width - text_size[0]) / 2)\n",
    "        y_start = int((height + text_size[1]) / 2)\n",
    "    \n",
    "        image = cv2.putText(blank_image.copy(), word_list[i], (x_start, y_start), font, fontScale, color, thickness)\n",
    "        #cv2.imshow(\"a\", image) \n",
    "        #cv2.waitKey(0)\n",
    "        #cv2.destroyAllWindows()                                                                             \n",
    "    \n",
    "        filename = f\"../resources/data/class_test/{font_label}/img_{i}.png\"\n",
    "        cv2.imwrite(filename,image)"
   ],
   "metadata": {
    "collapsed": false,
    "ExecuteTime": {
     "end_time": "2023-12-28T22:02:23.764984400Z",
     "start_time": "2023-12-28T22:02:23.721403300Z"
    }
   },
   "id": "81eda76cfdec83e"
  },
  {
   "cell_type": "code",
   "execution_count": 63,
   "outputs": [
    {
     "data": {
      "text/plain": "(98, 22)"
     },
     "execution_count": 63,
     "metadata": {},
     "output_type": "execute_result"
    }
   ],
   "source": [
    "text_size"
   ],
   "metadata": {
    "collapsed": false,
    "ExecuteTime": {
     "end_time": "2023-12-28T21:58:17.650936200Z",
     "start_time": "2023-12-28T21:58:17.631896100Z"
    }
   },
   "id": "eda4218b0045114d"
  },
  {
   "cell_type": "code",
   "execution_count": 45,
   "outputs": [
    {
     "data": {
      "text/plain": "array([[0],\n       [0],\n       [0],\n       [0],\n       [0],\n       [0],\n       [0],\n       [0],\n       [0],\n       [0],\n       [0],\n       [0],\n       [0],\n       [0],\n       [0],\n       [0],\n       [0],\n       [0],\n       [0],\n       [0],\n       [0],\n       [0],\n       [0],\n       [0],\n       [0],\n       [0],\n       [0],\n       [0],\n       [0],\n       [0],\n       [0],\n       [0],\n       [0],\n       [0],\n       [0],\n       [0],\n       [0],\n       [0],\n       [0],\n       [0],\n       [0],\n       [0],\n       [0],\n       [0],\n       [0],\n       [0],\n       [0],\n       [0],\n       [0],\n       [0],\n       [0],\n       [0],\n       [0],\n       [0],\n       [0],\n       [0],\n       [0],\n       [0],\n       [0],\n       [0],\n       [0],\n       [0],\n       [0],\n       [0],\n       [0],\n       [0],\n       [0],\n       [0],\n       [0],\n       [0],\n       [0],\n       [0],\n       [0],\n       [0],\n       [0],\n       [0],\n       [0],\n       [0],\n       [0],\n       [0],\n       [0],\n       [0],\n       [0],\n       [0],\n       [0],\n       [0],\n       [0],\n       [0],\n       [0],\n       [0],\n       [0],\n       [0],\n       [0],\n       [0],\n       [0],\n       [0],\n       [0],\n       [0],\n       [0],\n       [0],\n       [0],\n       [0],\n       [0],\n       [0],\n       [0],\n       [0],\n       [0],\n       [0],\n       [0],\n       [0],\n       [0],\n       [0],\n       [0],\n       [0],\n       [0],\n       [0],\n       [0],\n       [0],\n       [0],\n       [0],\n       [0],\n       [0],\n       [0],\n       [0],\n       [0],\n       [0],\n       [0],\n       [0],\n       [0],\n       [0],\n       [0],\n       [0],\n       [0],\n       [0],\n       [0],\n       [0],\n       [0],\n       [0],\n       [0],\n       [0],\n       [0],\n       [0],\n       [0],\n       [0],\n       [0],\n       [0],\n       [0],\n       [0],\n       [0],\n       [0],\n       [0],\n       [0],\n       [0],\n       [0],\n       [0],\n       [0],\n       [0],\n       [0],\n       [0],\n       [0],\n       [0],\n       [0],\n       [0],\n       [0],\n       [0],\n       [0],\n       [0],\n       [0],\n       [0],\n       [0],\n       [0],\n       [0],\n       [0],\n       [0],\n       [0],\n       [0],\n       [0],\n       [0],\n       [0],\n       [0],\n       [0],\n       [0],\n       [0],\n       [0],\n       [0],\n       [0],\n       [0],\n       [0],\n       [0],\n       [0],\n       [0],\n       [0],\n       [0],\n       [0],\n       [0],\n       [0],\n       [0],\n       [0],\n       [0],\n       [0]], dtype=uint8)"
     },
     "execution_count": 45,
     "metadata": {},
     "output_type": "execute_result"
    }
   ],
   "source": [
    "sum(blank_image)"
   ],
   "metadata": {
    "collapsed": false,
    "ExecuteTime": {
     "end_time": "2023-12-28T21:40:44.440860Z",
     "start_time": "2023-12-28T21:40:44.430106600Z"
    }
   },
   "id": "32e916b7c4e7d9b7"
  },
  {
   "cell_type": "markdown",
   "source": [],
   "metadata": {
    "collapsed": false
   },
   "id": "73fe80e187d6904f"
  }
 ],
 "metadata": {
  "kernelspec": {
   "display_name": "Python 3",
   "language": "python",
   "name": "python3"
  },
  "language_info": {
   "codemirror_mode": {
    "name": "ipython",
    "version": 2
   },
   "file_extension": ".py",
   "mimetype": "text/x-python",
   "name": "python",
   "nbconvert_exporter": "python",
   "pygments_lexer": "ipython2",
   "version": "2.7.6"
  }
 },
 "nbformat": 4,
 "nbformat_minor": 5
}
