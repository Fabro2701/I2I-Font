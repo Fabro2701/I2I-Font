{
 "cells": [
  {
   "cell_type": "code",
   "execution_count": 15,
   "id": "initial_id",
   "metadata": {
    "collapsed": true,
    "ExecuteTime": {
     "end_time": "2023-12-29T01:39:40.942038100Z",
     "start_time": "2023-12-29T01:39:40.927012500Z"
    }
   },
   "outputs": [],
   "source": [
    "import cv2\n",
    "import numpy as np\n",
    "from matplotlib import pyplot as plt \n",
    "from PIL import Image, ImageDraw, ImageFont\n",
    "from os import listdir\n",
    "import os"
   ]
  },
  {
   "cell_type": "code",
   "execution_count": 2,
   "outputs": [
    {
     "data": {
      "text/plain": "(50, 200, 1)"
     },
     "execution_count": 2,
     "metadata": {},
     "output_type": "execute_result"
    }
   ],
   "source": [
    "height = 50\n",
    "width = 200\n",
    "blank_image = np.zeros((height,width,1),dtype=np.uint8)\n",
    "blank_image.shape"
   ],
   "metadata": {
    "collapsed": false,
    "ExecuteTime": {
     "end_time": "2023-12-28T22:47:07.348497300Z",
     "start_time": "2023-12-28T22:47:07.338800Z"
    }
   },
   "id": "e0de5b5765380cb2"
  },
  {
   "cell_type": "code",
   "execution_count": 5,
   "outputs": [
    {
     "data": {
      "text/plain": "<Figure size 640x480 with 1 Axes>",
      "image/png": "[encoded data removed]"
     },
     "metadata": {},
     "output_type": "display_data"
    }
   ],
   "source": [
    "plt.imshow(blank_image, cmap='gray')\n",
    "plt.show()"
   ],
   "metadata": {
    "collapsed": false,
    "ExecuteTime": {
     "end_time": "2023-12-28T22:47:27.121685200Z",
     "start_time": "2023-12-28T22:47:26.970372Z"
    }
   },
   "id": "2e7259a60adc1849"
  },
  {
   "cell_type": "code",
   "execution_count": 5,
   "outputs": [
    {
     "data": {
      "text/plain": "<PIL.Image.Image image mode=L size=50x50>",
      "image/png": "[encoded data removed]",
      "image/jpeg": "[encoded data removed]"
     },
     "execution_count": 5,
     "metadata": {},
     "output_type": "execute_result"
    }
   ],
   "source": [
    "Image.fromarray(blank_image.reshape(height,width))"
   ],
   "metadata": {
    "collapsed": false,
    "ExecuteTime": {
     "end_time": "2023-12-28T21:05:53.187653700Z",
     "start_time": "2023-12-28T21:05:53.159052600Z"
    }
   },
   "id": "77b07ed2fff08767"
  },
  {
   "cell_type": "code",
   "execution_count": 3,
   "outputs": [],
   "source": [
    "font = cv2.FONT_HERSHEY_SCRIPT_SIMPLEX  \n",
    "org = (0,30) \n",
    "fontScale = 1\n",
    "color = (255, 0, 0) \n",
    "thickness = 1\n",
    "\n",
    "image = cv2.putText(blank_image.copy(), 'OpenCV', org, font, fontScale, color, thickness, cv2.LINE_AA) "
   ],
   "metadata": {
    "collapsed": false,
    "ExecuteTime": {
     "end_time": "2023-12-28T22:47:09.764425500Z",
     "start_time": "2023-12-28T22:47:09.755013400Z"
    }
   },
   "id": "192b35b0615b7ad7"
  },
  {
   "cell_type": "code",
   "execution_count": 49,
   "outputs": [
    {
     "data": {
      "text/plain": "True"
     },
     "execution_count": 49,
     "metadata": {},
     "output_type": "execute_result"
    }
   ],
   "source": [
    "filename = \"test.png\"\n",
    "cv2.imwrite(\"../resources/data/class_test/\"+filename,image)"
   ],
   "metadata": {
    "collapsed": false,
    "ExecuteTime": {
     "end_time": "2023-12-28T21:42:10.497592100Z",
     "start_time": "2023-12-28T21:42:10.492174400Z"
    }
   },
   "id": "cf3d5082ec10dfe0"
  },
  {
   "cell_type": "code",
   "execution_count": 4,
   "outputs": [
    {
     "ename": "error",
     "evalue": "OpenCV(4.6.0) C:\\b\\abs_f8n1j3l9l0\\croot\\opencv-suite_1691622637237\\work\\modules\\highgui\\src\\window.cpp:1267: error: (-2:Unspecified error) The function is not implemented. Rebuild the library with Windows, GTK+ 2.x or Cocoa support. If you are on Ubuntu or Debian, install libgtk2.0-dev and pkg-config, then re-run cmake or configure script in function 'cvShowImage'\n",
     "output_type": "error",
     "traceback": [
      "\u001B[1;31m---------------------------------------------------------------------------\u001B[0m",
      "\u001B[1;31merror\u001B[0m                                     Traceback (most recent call last)",
      "Cell \u001B[1;32mIn[4], line 1\u001B[0m\n\u001B[1;32m----> 1\u001B[0m \u001B[43mcv2\u001B[49m\u001B[38;5;241;43m.\u001B[39;49m\u001B[43mimshow\u001B[49m\u001B[43m(\u001B[49m\u001B[38;5;124;43m\"\u001B[39;49m\u001B[38;5;124;43ma\u001B[39;49m\u001B[38;5;124;43m\"\u001B[39;49m\u001B[43m,\u001B[49m\u001B[43m \u001B[49m\u001B[43mimage\u001B[49m\u001B[43m)\u001B[49m \n\u001B[0;32m      2\u001B[0m cv2\u001B[38;5;241m.\u001B[39mwaitKey(\u001B[38;5;241m0\u001B[39m)\n\u001B[0;32m      3\u001B[0m cv2\u001B[38;5;241m.\u001B[39mdestroyAllWindows()\n",
      "\u001B[1;31merror\u001B[0m: OpenCV(4.6.0) C:\\b\\abs_f8n1j3l9l0\\croot\\opencv-suite_1691622637237\\work\\modules\\highgui\\src\\window.cpp:1267: error: (-2:Unspecified error) The function is not implemented. Rebuild the library with Windows, GTK+ 2.x or Cocoa support. If you are on Ubuntu or Debian, install libgtk2.0-dev and pkg-config, then re-run cmake or configure script in function 'cvShowImage'\n"
     ]
    }
   ],
   "source": [
    "cv2.imshow(\"a\", image) \n",
    "cv2.waitKey(0)\n",
    "cv2.destroyAllWindows()"
   ],
   "metadata": {
    "collapsed": false,
    "ExecuteTime": {
     "end_time": "2023-12-28T22:47:11.286382700Z",
     "start_time": "2023-12-28T22:47:10.981519500Z"
    }
   },
   "id": "810b6d4f1dfcd430"
  },
  {
   "cell_type": "code",
   "execution_count": 7,
   "outputs": [
    {
     "data": {
      "text/plain": "['pariatur',\n 'fugiat',\n 'elit',\n 'ea',\n 'nulla',\n 'ut',\n 'qui',\n 'eu',\n 'in',\n 'aliquip',\n 'cillum',\n 'nostrud',\n 'Excepteur',\n 'dolore',\n 'ex',\n 'proident',\n 'nisi',\n 'est',\n 'laborum',\n 'exercitation',\n 'Lorem',\n 'minim',\n 'Duis',\n 'sint',\n 'sed',\n 'ullamco',\n 'consectetur',\n 'labore',\n 'ipsum',\n 'incididunt',\n 'sunt',\n 'quis',\n 'magna',\n 'laboris',\n 'enim',\n 'occaecat',\n 'mollit',\n 'adipiscing',\n 'tempor',\n 'veniam',\n 'anim',\n 'velit',\n 'culpa',\n 'id',\n 'ad',\n 'sit',\n 'eiusmod',\n 'aliqua',\n 'cupidatat',\n 'irure',\n 'dolor',\n 'aute',\n 'Ut',\n 'commodo',\n 'officia',\n 'esse',\n 'deserunt',\n 'consequat',\n 'voluptate',\n 'non',\n 'amet',\n 'et',\n 'do',\n 'reprehenderit']"
     },
     "execution_count": 7,
     "metadata": {},
     "output_type": "execute_result"
    }
   ],
   "source": [
    "text = \\\n",
    "\"\"\"Lorem ipsum dolor sit amet, consectetur adipiscing elit, sed do eiusmod tempor incididunt ut labore et dolore magna aliqua. Ut enim ad minim veniam, quis nostrud exercitation ullamco laboris nisi ut aliquip ex ea commodo consequat. Duis aute irure dolor in reprehenderit in voluptate velit esse cillum dolore eu fugiat nulla pariatur. Excepteur sint occaecat cupidatat non proident, sunt in culpa qui officia deserunt mollit anim id est laborum.\"\"\"\n",
    "text = text.replace('.', '').replace(',', '')\n",
    "word_list = list(set(text.split()))\n",
    "word_list"
   ],
   "metadata": {
    "collapsed": false,
    "ExecuteTime": {
     "end_time": "2023-12-29T01:31:41.762733700Z",
     "start_time": "2023-12-29T01:31:41.756732600Z"
    }
   },
   "id": "f3616be8f9978625"
  },
  {
   "cell_type": "code",
   "execution_count": 11,
   "outputs": [],
   "source": [
    "\n",
    "org = (0,30) \n",
    "fontScale = 1\n",
    "color = (255, 0, 0) \n",
    "thickness = 1\n",
    "for font, font_label in zip([cv2.FONT_HERSHEY_SIMPLEX, cv2.FONT_HERSHEY_SCRIPT_SIMPLEX],[\"HERSHEY\",\"SCRIPT\"]):\n",
    "    for i in range(len(word_list)):\n",
    "        text_size = cv2.getTextSize(word_list[i], font, fontScale, thickness)[0]\n",
    "        x_start = int((width - text_size[0]) / 2)\n",
    "        y_start = int((height + text_size[1]) / 2)\n",
    "    \n",
    "        image = cv2.putText(blank_image.copy(), word_list[i], (x_start, y_start), font, fontScale, color, thickness)\n",
    "        #cv2.imshow(\"a\", image) \n",
    "        #cv2.waitKey(0)\n",
    "        #cv2.destroyAllWindows()                                                                             \n",
    "    \n",
    "        filename = f\"../resources/data/class_test/{font_label}/img_{i}.png\"\n",
    "        cv2.imwrite(filename,image)"
   ],
   "metadata": {
    "collapsed": false,
    "ExecuteTime": {
     "end_time": "2023-12-29T00:04:16.166158700Z",
     "start_time": "2023-12-29T00:04:16.119685600Z"
    }
   },
   "id": "81eda76cfdec83e"
  },
  {
   "cell_type": "code",
   "execution_count": 25,
   "outputs": [
    {
     "name": "stderr",
     "output_type": "stream",
     "text": [
      "C:\\Users\\Fabrizio Ortega\\AppData\\Local\\Temp\\ipykernel_2552\\2430354967.py:8: DeprecationWarning: getsize is deprecated and will be removed in Pillow 10 (2023-07-01). Use getbbox or getlength instead.\n",
      "  text_size = font.getsize(word)\n"
     ]
    }
   ],
   "source": [
    "width, height = 200, 50\n",
    "background_color = (255, 255, 255)\n",
    "for font_label in listdir(\"../resources/fonts/\"):\n",
    "    font = ImageFont.truetype(f\"../resources/fonts/{font_label}\", size=30)\n",
    "    os.makedirs(f\"../resources/data/class_test/{font_label[:-5]}\", exist_ok=True)\n",
    "    for i in range(len(word_list)):\n",
    "        word = word_list[i]\n",
    "        text_size = font.getsize(word)\n",
    "        x_start = int((width - text_size[0]) / 2)\n",
    "        y_start = int((height - text_size[1]) / 2)\n",
    "           \n",
    "        image = Image.new(\"RGB\", (width, height), background_color)\n",
    "        draw = ImageDraw.Draw(image)\n",
    "        draw.text((x_start, y_start), word, font=font, fill=(0, 0, 0))   \n",
    "    \n",
    "        filename = f\"../resources/data/class_test/{font_label[:-5]}/img_{i}.png\"\n",
    "        image.save(filename)"
   ],
   "metadata": {
    "collapsed": false,
    "ExecuteTime": {
     "end_time": "2023-12-29T01:45:12.766891300Z",
     "start_time": "2023-12-29T01:45:12.430048400Z"
    }
   },
   "id": "15f804ec2d9eaa4a"
  },
  {
   "cell_type": "markdown",
   "source": [],
   "metadata": {
    "collapsed": false
   },
   "id": "73fe80e187d6904f"
  }
 ],
 "metadata": {
  "kernelspec": {
   "display_name": "Python 3",
   "language": "python",
   "name": "python3"
  },
  "language_info": {
   "codemirror_mode": {
    "name": "ipython",
    "version": 2
   },
   "file_extension": ".py",
   "mimetype": "text/x-python",
   "name": "python",
   "nbconvert_exporter": "python",
   "pygments_lexer": "ipython2",
   "version": "2.7.6"
  }
 },
 "nbformat": 4,
 "nbformat_minor": 5
}
