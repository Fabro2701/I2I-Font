{
 "cells": [
  {
   "cell_type": "code",
   "execution_count": 1,
   "id": "initial_id",
   "metadata": {
    "collapsed": true,
    "ExecuteTime": {
     "end_time": "2023-12-29T17:40:56.006484200Z",
     "start_time": "2023-12-29T17:40:55.214639Z"
    }
   },
   "outputs": [],
   "source": [
    "import cv2\n",
    "import numpy as np\n",
    "from matplotlib import pyplot as plt \n",
    "from PIL import Image, ImageDraw, ImageFont\n",
    "from os import listdir\n",
    "import os"
   ]
  },
  {
   "cell_type": "code",
   "execution_count": 2,
   "outputs": [
    {
     "data": {
      "text/plain": "(50, 200, 1)"
     },
     "execution_count": 2,
     "metadata": {},
     "output_type": "execute_result"
    }
   ],
   "source": [
    "height = 50\n",
    "width = 200\n",
    "blank_image = np.zeros((height,width,1),dtype=np.uint8)\n",
    "blank_image.shape"
   ],
   "metadata": {
    "collapsed": false,
    "ExecuteTime": {
     "end_time": "2023-12-28T22:47:07.348497300Z",
     "start_time": "2023-12-28T22:47:07.338800Z"
    }
   },
   "id": "e0de5b5765380cb2"
  },
  {
   "cell_type": "code",
   "execution_count": 5,
   "outputs": [
    {
     "data": {
      "text/plain": "<Figure size 640x480 with 1 Axes>",
      "image/png": "[encoded data removed]"
     },
     "metadata": {},
     "output_type": "display_data"
    }
   ],
   "source": [
    "plt.imshow(blank_image, cmap='gray')\n",
    "plt.show()"
   ],
   "metadata": {
    "collapsed": false,
    "ExecuteTime": {
     "end_time": "2023-12-28T22:47:27.121685200Z",
     "start_time": "2023-12-28T22:47:26.970372Z"
    }
   },
   "id": "2e7259a60adc1849"
  },
  {
   "cell_type": "code",
   "execution_count": 5,
   "outputs": [
    {
     "data": {
      "text/plain": "<PIL.Image.Image image mode=L size=50x50>",
      "image/png": "[encoded data removed]",
      "image/jpeg": "[encoded data removed]"
     },
     "execution_count": 5,
     "metadata": {},
     "output_type": "execute_result"
    }
   ],
   "source": [
    "Image.fromarray(blank_image.reshape(height,width))"
   ],
   "metadata": {
    "collapsed": false,
    "ExecuteTime": {
     "end_time": "2023-12-28T21:05:53.187653700Z",
     "start_time": "2023-12-28T21:05:53.159052600Z"
    }
   },
   "id": "77b07ed2fff08767"
  },
  {
   "cell_type": "code",
   "execution_count": 3,
   "outputs": [],
   "source": [
    "font = cv2.FONT_HERSHEY_SCRIPT_SIMPLEX  \n",
    "org = (0,30) \n",
    "fontScale = 1\n",
    "color = (255, 0, 0) \n",
    "thickness = 1\n",
    "\n",
    "image = cv2.putText(blank_image.copy(), 'OpenCV', org, font, fontScale, color, thickness, cv2.LINE_AA) "
   ],
   "metadata": {
    "collapsed": false,
    "ExecuteTime": {
     "end_time": "2023-12-28T22:47:09.764425500Z",
     "start_time": "2023-12-28T22:47:09.755013400Z"
    }
   },
   "id": "192b35b0615b7ad7"
  },
  {
   "cell_type": "code",
   "execution_count": 49,
   "outputs": [
    {
     "data": {
      "text/plain": "True"
     },
     "execution_count": 49,
     "metadata": {},
     "output_type": "execute_result"
    }
   ],
   "source": [
    "filename = \"test.png\"\n",
    "cv2.imwrite(\"../resources/data/class_test/\"+filename,image)"
   ],
   "metadata": {
    "collapsed": false,
    "ExecuteTime": {
     "end_time": "2023-12-28T21:42:10.497592100Z",
     "start_time": "2023-12-28T21:42:10.492174400Z"
    }
   },
   "id": "cf3d5082ec10dfe0"
  },
  {
   "cell_type": "code",
   "execution_count": 4,
   "outputs": [
    {
     "ename": "error",
     "evalue": "OpenCV(4.6.0) C:\\b\\abs_f8n1j3l9l0\\croot\\opencv-suite_1691622637237\\work\\modules\\highgui\\src\\window.cpp:1267: error: (-2:Unspecified error) The function is not implemented. Rebuild the library with Windows, GTK+ 2.x or Cocoa support. If you are on Ubuntu or Debian, install libgtk2.0-dev and pkg-config, then re-run cmake or configure script in function 'cvShowImage'\n",
     "output_type": "error",
     "traceback": [
      "\u001B[1;31m---------------------------------------------------------------------------\u001B[0m",
      "\u001B[1;31merror\u001B[0m                                     Traceback (most recent call last)",
      "Cell \u001B[1;32mIn[4], line 1\u001B[0m\n\u001B[1;32m----> 1\u001B[0m \u001B[43mcv2\u001B[49m\u001B[38;5;241;43m.\u001B[39;49m\u001B[43mimshow\u001B[49m\u001B[43m(\u001B[49m\u001B[38;5;124;43m\"\u001B[39;49m\u001B[38;5;124;43ma\u001B[39;49m\u001B[38;5;124;43m\"\u001B[39;49m\u001B[43m,\u001B[49m\u001B[43m \u001B[49m\u001B[43mimage\u001B[49m\u001B[43m)\u001B[49m \n\u001B[0;32m      2\u001B[0m cv2\u001B[38;5;241m.\u001B[39mwaitKey(\u001B[38;5;241m0\u001B[39m)\n\u001B[0;32m      3\u001B[0m cv2\u001B[38;5;241m.\u001B[39mdestroyAllWindows()\n",
      "\u001B[1;31merror\u001B[0m: OpenCV(4.6.0) C:\\b\\abs_f8n1j3l9l0\\croot\\opencv-suite_1691622637237\\work\\modules\\highgui\\src\\window.cpp:1267: error: (-2:Unspecified error) The function is not implemented. Rebuild the library with Windows, GTK+ 2.x or Cocoa support. If you are on Ubuntu or Debian, install libgtk2.0-dev and pkg-config, then re-run cmake or configure script in function 'cvShowImage'\n"
     ]
    }
   ],
   "source": [
    "cv2.imshow(\"a\", image) \n",
    "cv2.waitKey(0)\n",
    "cv2.destroyAllWindows()"
   ],
   "metadata": {
    "collapsed": false,
    "ExecuteTime": {
     "end_time": "2023-12-28T22:47:11.286382700Z",
     "start_time": "2023-12-28T22:47:10.981519500Z"
    }
   },
   "id": "810b6d4f1dfcd430"
  },
  {
   "cell_type": "code",
   "execution_count": 2,
   "outputs": [
    {
     "data": {
      "text/plain": "2001"
     },
     "execution_count": 2,
     "metadata": {},
     "output_type": "execute_result"
    }
   ],
   "source": [
    "text = \\\n",
    "\"\"\"Lorem ipsum dolor sit amet, consectetur adipiscing elit. Proin maximus elit ut tristique posuere. Nunc sed erat aliquam, volutpat ante vel, eleifend lectus. Duis eget tincidunt libero, eu aliquam eros. Aliquam non est augue. Quisque laoreet rhoncus lorem in aliquam. Praesent at eros mauris. Etiam consectetur ex eget diam semper, sit amet lacinia tortor bibendum. Donec in placerat sapien. Suspendisse dapibus nec risus non suscipit. Mauris porttitor neque sit amet leo placerat, in tempus arcu congue. Nulla a ligula tempor, facilisis metus quis, cursus libero. Proin mollis vitae risus sit amet luctus. Pellentesque consequat massa in erat molestie, sed porta tortor imperdiet. Cras a dignissim elit. Maecenas at felis nulla.\n",
    "\"\"\"\n",
    "with open('../resources/data/text/rnd.txt', 'r') as file:\n",
    "    text = file.read()\n",
    "text = text.replace('.', '').replace(',', '')\n",
    "word_list = list(set(text.split()))\n",
    "len(word_list)"
   ],
   "metadata": {
    "collapsed": false,
    "ExecuteTime": {
     "end_time": "2023-12-29T17:40:58.802086500Z",
     "start_time": "2023-12-29T17:40:58.772691800Z"
    }
   },
   "id": "f3616be8f9978625"
  },
  {
   "cell_type": "code",
   "execution_count": 11,
   "outputs": [
    {
     "data": {
      "text/plain": "['poke',\n 'adjoining',\n 'therapeutic',\n 'bury',\n 'shake',\n 'growth',\n 'frogs',\n 'swift',\n 'door',\n 'border',\n 'save',\n 'flowery',\n 'mint',\n 'nervous',\n 'alert',\n 'drop',\n 'tame',\n 'pickle',\n 'powerful',\n 'decide']"
     },
     "execution_count": 11,
     "metadata": {},
     "output_type": "execute_result"
    }
   ],
   "source": [
    "word_list[:20]"
   ],
   "metadata": {
    "collapsed": false,
    "ExecuteTime": {
     "end_time": "2023-12-29T03:12:27.540473200Z",
     "start_time": "2023-12-29T03:12:27.531096Z"
    }
   },
   "id": "aeaf5876ce4b1c20"
  },
  {
   "cell_type": "code",
   "execution_count": 11,
   "outputs": [],
   "source": [
    "\n",
    "org = (0,30) \n",
    "fontScale = 1\n",
    "color = (255, 0, 0) \n",
    "thickness = 1\n",
    "for font, font_label in zip([cv2.FONT_HERSHEY_SIMPLEX, cv2.FONT_HERSHEY_SCRIPT_SIMPLEX],[\"HERSHEY\",\"SCRIPT\"]):\n",
    "    for i in range(len(word_list)):\n",
    "        text_size = cv2.getTextSize(word_list[i], font, fontScale, thickness)[0]\n",
    "        x_start = int((width - text_size[0]) / 2)\n",
    "        y_start = int((height + text_size[1]) / 2)\n",
    "    \n",
    "        image = cv2.putText(blank_image.copy(), word_list[i], (x_start, y_start), font, fontScale, color, thickness)\n",
    "        #cv2.imshow(\"a\", image) \n",
    "        #cv2.waitKey(0)\n",
    "        #cv2.destroyAllWindows()                                                                             \n",
    "    \n",
    "        filename = f\"../resources/data/class_test/{font_label}/img_{i}.png\"\n",
    "        cv2.imwrite(filename,image)"
   ],
   "metadata": {
    "collapsed": false,
    "ExecuteTime": {
     "end_time": "2023-12-29T00:04:16.166158700Z",
     "start_time": "2023-12-29T00:04:16.119685600Z"
    }
   },
   "id": "81eda76cfdec83e"
  },
  {
   "cell_type": "code",
   "execution_count": 12,
   "outputs": [
    {
     "name": "stderr",
     "output_type": "stream",
     "text": [
      "C:\\Users\\Fabrizio Ortega\\AppData\\Local\\Temp\\ipykernel_7620\\3078379661.py:8: DeprecationWarning: getsize is deprecated and will be removed in Pillow 10 (2023-07-01). Use getbbox or getlength instead.\n",
      "  text_size = font.getsize(word)\n"
     ]
    }
   ],
   "source": [
    "width, height = 200, 50\n",
    "background_color = (0, 0, 0)\n",
    "for font_label in listdir(\"../resources/fonts/\"):\n",
    "    font = ImageFont.truetype(f\"../resources/fonts/{font_label}\", size=30)\n",
    "    os.makedirs(f\"../resources/data/class_test/{font_label[:-4]}\", exist_ok=True)\n",
    "    for i in range(len(word_list)):\n",
    "        word = word_list[i]\n",
    "        text_size = font.getsize(word)\n",
    "        x_start = int((width - text_size[0]) / 2)\n",
    "        y_start = int((height - text_size[1]) / 2)\n",
    "           \n",
    "        image = Image.new(\"RGB\", (width, height), background_color)\n",
    "        draw = ImageDraw.Draw(image)\n",
    "        draw.text((x_start, y_start), word, font=font, fill=(255, 255, 255))   \n",
    "    \n",
    "        #filename = f\"../resources/data/class_test/{font_label[:-5]}/img_{i}.png\"\n",
    "        filename = f\"../resources/data/class_test/{font_label[:-4]}/img_{word}.jpg\"\n",
    "        image.save(filename, quality=95)"
   ],
   "metadata": {
    "collapsed": false,
    "ExecuteTime": {
     "end_time": "2023-12-29T17:53:47.741868400Z",
     "start_time": "2023-12-29T17:53:38.181323300Z"
    }
   },
   "id": "15f804ec2d9eaa4a"
  },
  {
   "cell_type": "code",
   "execution_count": 38,
   "outputs": [],
   "source": [
    "image = cv2.imread(f\"../resources/data/class_test/Sevillana-Regular/img_key.jpg\").max(axis=-1, keepdims=True)"
   ],
   "metadata": {
    "collapsed": false,
    "ExecuteTime": {
     "end_time": "2023-12-29T18:21:03.731502500Z",
     "start_time": "2023-12-29T18:21:03.716771800Z"
    }
   },
   "id": "ac311e586d4a005b"
  },
  {
   "cell_type": "code",
   "execution_count": 42,
   "outputs": [
    {
     "data": {
      "text/plain": "<Figure size 640x480 with 1 Axes>",
      "image/png": "[encoded data removed]"
     },
     "metadata": {},
     "output_type": "display_data"
    }
   ],
   "source": [
    "plt.imshow(image, cmap='gray')\n",
    "plt.show()"
   ],
   "metadata": {
    "collapsed": false,
    "ExecuteTime": {
     "end_time": "2023-12-29T18:21:44.867195200Z",
     "start_time": "2023-12-29T18:21:44.782402700Z"
    }
   },
   "id": "3f357fe1fc45c114"
  },
  {
   "cell_type": "code",
   "execution_count": 40,
   "outputs": [
    {
     "data": {
      "text/plain": "array([[  0],\n       [  0],\n       [  0],\n       [  0],\n       [  0],\n       [  0],\n       [  0],\n       [  0],\n       [  2],\n       [  4],\n       [248],\n       [249],\n       [236],\n       [255],\n       [255],\n       [255],\n       [237],\n       [249],\n       [255],\n       [255],\n       [255],\n       [253],\n       [255],\n       [255],\n       [255],\n       [255],\n       [255],\n       [255],\n       [255],\n       [255],\n       [255],\n       [255],\n       [255],\n       [255],\n       [255],\n       [255],\n       [255],\n       [255],\n       [255],\n       [251],\n       [214],\n       [207],\n       [252],\n       [210],\n       [241],\n       [  3],\n       [  2],\n       [  2],\n       [  0],\n       [  0]], dtype=uint8)"
     },
     "execution_count": 40,
     "metadata": {},
     "output_type": "execute_result"
    }
   ],
   "source": [
    "image.max(axis=1)"
   ],
   "metadata": {
    "collapsed": false,
    "ExecuteTime": {
     "end_time": "2023-12-29T18:21:09.640555Z",
     "start_time": "2023-12-29T18:21:09.624518900Z"
    }
   },
   "id": "33564c6c701c572b"
  },
  {
   "cell_type": "code",
   "execution_count": null,
   "outputs": [],
   "source": [],
   "metadata": {
    "collapsed": false
   },
   "id": "9b0911ee01385da6"
  }
 ],
 "metadata": {
  "kernelspec": {
   "display_name": "Python 3",
   "language": "python",
   "name": "python3"
  },
  "language_info": {
   "codemirror_mode": {
    "name": "ipython",
    "version": 2
   },
   "file_extension": ".py",
   "mimetype": "text/x-python",
   "name": "python",
   "nbconvert_exporter": "python",
   "pygments_lexer": "ipython2",
   "version": "2.7.6"
  }
 },
 "nbformat": 4,
 "nbformat_minor": 5
}
